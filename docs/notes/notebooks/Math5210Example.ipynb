{
 "cells": [
  {
   "cell_type": "code",
   "execution_count": 52,
   "metadata": {},
   "outputs": [
    {
     "data": {
      "text/html": [
       "<style>\n",
       "        .bk-notebook-logo {\n",
       "            display: block;\n",
       "            width: 20px;\n",
       "            height: 20px;\n",
       "            background-image: url(data:image/png;base64,iVBORw0KGgoAAAANSUhEUgAAABQAAAAUCAYAAACNiR0NAAAABHNCSVQICAgIfAhkiAAAAAlwSFlzAAALEgAACxIB0t1+/AAAABx0RVh0U29mdHdhcmUAQWRvYmUgRmlyZXdvcmtzIENTNui8sowAAAOkSURBVDiNjZRtaJVlGMd/1/08zzln5zjP1LWcU9N0NkN8m2CYjpgQYQXqSs0I84OLIC0hkEKoPtiH3gmKoiJDU7QpLgoLjLIQCpEsNJ1vqUOdO7ppbuec5+V+rj4ctwzd8IIbbi6u+8f1539dt3A78eXC7QizUF7gyV1fD1Yqg4JWz84yffhm0qkFqBogB9rM8tZdtwVsPUhWhGcFJngGeWrPzHm5oaMmkfEg1usvLFyc8jLRqDOMru7AyC8saQr7GG7f5fvDeH7Ej8CM66nIF+8yngt6HWaKh7k49Soy9nXurCi1o3qUbS3zWfrYeQDTB/Qj6kX6Ybhw4B+bOYoLKCC9H3Nu/leUTZ1JdRWkkn2ldcCamzrcf47KKXdAJllSlxAOkRgyHsGC/zRday5Qld9DyoM4/q/rUoy/CXh3jzOu3bHUVZeU+DEn8FInkPBFlu3+nW3Nw0mk6vCDiWg8CeJaxEwuHS3+z5RgY+YBR6V1Z1nxSOfoaPa4LASWxxdNp+VWTk7+4vzaou8v8PN+xo+KY2xsw6une2frhw05CTYOmQvsEhjhWjn0bmXPjpE1+kplmmkP3suftwTubK9Vq22qKmrBhpY4jvd5afdRA3wGjFAgcnTK2s4hY0/GPNIb0nErGMCRxWOOX64Z8RAC4oCXdklmEvcL8o0BfkNK4lUg9HTl+oPlQxdNo3Mg4Nv175e/1LDGzZen30MEjRUtmXSfiTVu1kK8W4txyV6BMKlbgk3lMwYCiusNy9fVfvvwMxv8Ynl6vxoByANLTWplvuj/nF9m2+PDtt1eiHPBr1oIfhCChQMBw6Aw0UulqTKZdfVvfG7VcfIqLG9bcldL/+pdWTLxLUy8Qq38heUIjh4XlzZxzQm19lLFlr8vdQ97rjZVOLf8nclzckbcD4wxXMidpX30sFd37Fv/GtwwhzhxGVAprjbg0gCAEeIgwCZyTV2Z1REEW8O4py0wsjeloKoMr6iCY6dP92H6Vw/oTyICIthibxjm/DfN9lVz8IqtqKYLUXfoKVMVQVVJOElGjrnnUt9T9wbgp8AyYKaGlqingHZU/uG2NTZSVqwHQTWkx9hxjkpWDaCg6Ckj5qebgBVbT3V3NNXMSiWSDdGV3hrtzla7J+duwPOToIg42ChPQOQjspnSlp1V+Gjdged7+8UN5CRAV7a5EdFNwCjEaBR27b3W890TE7g24NAP/mMDXRWrGoFPQI9ls/MWO2dWFAar/xcOIImbbpA3zgAAAABJRU5ErkJggg==);\n",
       "        }\n",
       "    </style>\n",
       "    <div>\n",
       "        <a href=\"https://bokeh.org\" target=\"_blank\" class=\"bk-notebook-logo\"></a>\n",
       "        <span id=\"p9917\">Loading BokehJS ...</span>\n",
       "    </div>\n"
      ]
     },
     "metadata": {},
     "output_type": "display_data"
    },
    {
     "data": {
      "application/javascript": "(function(root) {\n  function now() {\n    return new Date();\n  }\n\n  const force = true;\n\n  if (typeof root._bokeh_onload_callbacks === \"undefined\" || force === true) {\n    root._bokeh_onload_callbacks = [];\n    root._bokeh_is_loading = undefined;\n  }\n\nconst JS_MIME_TYPE = 'application/javascript';\n  const HTML_MIME_TYPE = 'text/html';\n  const EXEC_MIME_TYPE = 'application/vnd.bokehjs_exec.v0+json';\n  const CLASS_NAME = 'output_bokeh rendered_html';\n\n  /**\n   * Render data to the DOM node\n   */\n  function render(props, node) {\n    const script = document.createElement(\"script\");\n    node.appendChild(script);\n  }\n\n  /**\n   * Handle when an output is cleared or removed\n   */\n  function handleClearOutput(event, handle) {\n    const cell = handle.cell;\n\n    const id = cell.output_area._bokeh_element_id;\n    const server_id = cell.output_area._bokeh_server_id;\n    // Clean up Bokeh references\n    if (id != null && id in Bokeh.index) {\n      Bokeh.index[id].model.document.clear();\n      delete Bokeh.index[id];\n    }\n\n    if (server_id !== undefined) {\n      // Clean up Bokeh references\n      const cmd_clean = \"from bokeh.io.state import curstate; print(curstate().uuid_to_server['\" + server_id + \"'].get_sessions()[0].document.roots[0]._id)\";\n      cell.notebook.kernel.execute(cmd_clean, {\n        iopub: {\n          output: function(msg) {\n            const id = msg.content.text.trim();\n            if (id in Bokeh.index) {\n              Bokeh.index[id].model.document.clear();\n              delete Bokeh.index[id];\n            }\n          }\n        }\n      });\n      // Destroy server and session\n      const cmd_destroy = \"import bokeh.io.notebook as ion; ion.destroy_server('\" + server_id + \"')\";\n      cell.notebook.kernel.execute(cmd_destroy);\n    }\n  }\n\n  /**\n   * Handle when a new output is added\n   */\n  function handleAddOutput(event, handle) {\n    const output_area = handle.output_area;\n    const output = handle.output;\n\n    // limit handleAddOutput to display_data with EXEC_MIME_TYPE content only\n    if ((output.output_type != \"display_data\") || (!Object.prototype.hasOwnProperty.call(output.data, EXEC_MIME_TYPE))) {\n      return\n    }\n\n    const toinsert = output_area.element.find(\".\" + CLASS_NAME.split(' ')[0]);\n\n    if (output.metadata[EXEC_MIME_TYPE][\"id\"] !== undefined) {\n      toinsert[toinsert.length - 1].firstChild.textContent = output.data[JS_MIME_TYPE];\n      // store reference to embed id on output_area\n      output_area._bokeh_element_id = output.metadata[EXEC_MIME_TYPE][\"id\"];\n    }\n    if (output.metadata[EXEC_MIME_TYPE][\"server_id\"] !== undefined) {\n      const bk_div = document.createElement(\"div\");\n      bk_div.innerHTML = output.data[HTML_MIME_TYPE];\n      const script_attrs = bk_div.children[0].attributes;\n      for (let i = 0; i < script_attrs.length; i++) {\n        toinsert[toinsert.length - 1].firstChild.setAttribute(script_attrs[i].name, script_attrs[i].value);\n        toinsert[toinsert.length - 1].firstChild.textContent = bk_div.children[0].textContent\n      }\n      // store reference to server id on output_area\n      output_area._bokeh_server_id = output.metadata[EXEC_MIME_TYPE][\"server_id\"];\n    }\n  }\n\n  function register_renderer(events, OutputArea) {\n\n    function append_mime(data, metadata, element) {\n      // create a DOM node to render to\n      const toinsert = this.create_output_subarea(\n        metadata,\n        CLASS_NAME,\n        EXEC_MIME_TYPE\n      );\n      this.keyboard_manager.register_events(toinsert);\n      // Render to node\n      const props = {data: data, metadata: metadata[EXEC_MIME_TYPE]};\n      render(props, toinsert[toinsert.length - 1]);\n      element.append(toinsert);\n      return toinsert\n    }\n\n    /* Handle when an output is cleared or removed */\n    events.on('clear_output.CodeCell', handleClearOutput);\n    events.on('delete.Cell', handleClearOutput);\n\n    /* Handle when a new output is added */\n    events.on('output_added.OutputArea', handleAddOutput);\n\n    /**\n     * Register the mime type and append_mime function with output_area\n     */\n    OutputArea.prototype.register_mime_type(EXEC_MIME_TYPE, append_mime, {\n      /* Is output safe? */\n      safe: true,\n      /* Index of renderer in `output_area.display_order` */\n      index: 0\n    });\n  }\n\n  // register the mime type if in Jupyter Notebook environment and previously unregistered\n  if (root.Jupyter !== undefined) {\n    const events = require('base/js/events');\n    const OutputArea = require('notebook/js/outputarea').OutputArea;\n\n    if (OutputArea.prototype.mime_types().indexOf(EXEC_MIME_TYPE) == -1) {\n      register_renderer(events, OutputArea);\n    }\n  }\n  if (typeof (root._bokeh_timeout) === \"undefined\" || force === true) {\n    root._bokeh_timeout = Date.now() + 5000;\n    root._bokeh_failed_load = false;\n  }\n\n  const NB_LOAD_WARNING = {'data': {'text/html':\n     \"<div style='background-color: #fdd'>\\n\"+\n     \"<p>\\n\"+\n     \"BokehJS does not appear to have successfully loaded. If loading BokehJS from CDN, this \\n\"+\n     \"may be due to a slow or bad network connection. Possible fixes:\\n\"+\n     \"</p>\\n\"+\n     \"<ul>\\n\"+\n     \"<li>re-rerun `output_notebook()` to attempt to load from CDN again, or</li>\\n\"+\n     \"<li>use INLINE resources instead, as so:</li>\\n\"+\n     \"</ul>\\n\"+\n     \"<code>\\n\"+\n     \"from bokeh.resources import INLINE\\n\"+\n     \"output_notebook(resources=INLINE)\\n\"+\n     \"</code>\\n\"+\n     \"</div>\"}};\n\n  function display_loaded() {\n    const el = document.getElementById(\"p9917\");\n    if (el != null) {\n      el.textContent = \"BokehJS is loading...\";\n    }\n    if (root.Bokeh !== undefined) {\n      if (el != null) {\n        el.textContent = \"BokehJS \" + root.Bokeh.version + \" successfully loaded.\";\n      }\n    } else if (Date.now() < root._bokeh_timeout) {\n      setTimeout(display_loaded, 100)\n    }\n  }\n\n  function run_callbacks() {\n    try {\n      root._bokeh_onload_callbacks.forEach(function(callback) {\n        if (callback != null)\n          callback();\n      });\n    } finally {\n      delete root._bokeh_onload_callbacks\n    }\n    console.debug(\"Bokeh: all callbacks have finished\");\n  }\n\n  function load_libs(css_urls, js_urls, callback) {\n    if (css_urls == null) css_urls = [];\n    if (js_urls == null) js_urls = [];\n\n    root._bokeh_onload_callbacks.push(callback);\n    if (root._bokeh_is_loading > 0) {\n      console.debug(\"Bokeh: BokehJS is being loaded, scheduling callback at\", now());\n      return null;\n    }\n    if (js_urls == null || js_urls.length === 0) {\n      run_callbacks();\n      return null;\n    }\n    console.debug(\"Bokeh: BokehJS not loaded, scheduling load and callback at\", now());\n    root._bokeh_is_loading = css_urls.length + js_urls.length;\n\n    function on_load() {\n      root._bokeh_is_loading--;\n      if (root._bokeh_is_loading === 0) {\n        console.debug(\"Bokeh: all BokehJS libraries/stylesheets loaded\");\n        run_callbacks()\n      }\n    }\n\n    function on_error(url) {\n      console.error(\"failed to load \" + url);\n    }\n\n    for (let i = 0; i < css_urls.length; i++) {\n      const url = css_urls[i];\n      const element = document.createElement(\"link\");\n      element.onload = on_load;\n      element.onerror = on_error.bind(null, url);\n      element.rel = \"stylesheet\";\n      element.type = \"text/css\";\n      element.href = url;\n      console.debug(\"Bokeh: injecting link tag for BokehJS stylesheet: \", url);\n      document.body.appendChild(element);\n    }\n\n    for (let i = 0; i < js_urls.length; i++) {\n      const url = js_urls[i];\n      const element = document.createElement('script');\n      element.onload = on_load;\n      element.onerror = on_error.bind(null, url);\n      element.async = false;\n      element.src = url;\n      console.debug(\"Bokeh: injecting script tag for BokehJS library: \", url);\n      document.head.appendChild(element);\n    }\n  };\n\n  function inject_raw_css(css) {\n    const element = document.createElement(\"style\");\n    element.appendChild(document.createTextNode(css));\n    document.body.appendChild(element);\n  }\n\n  const js_urls = [\"https://cdn.bokeh.org/bokeh/release/bokeh-3.0.2.min.js\", \"https://cdn.bokeh.org/bokeh/release/bokeh-gl-3.0.2.min.js\", \"https://cdn.bokeh.org/bokeh/release/bokeh-widgets-3.0.2.min.js\", \"https://cdn.bokeh.org/bokeh/release/bokeh-tables-3.0.2.min.js\", \"https://cdn.bokeh.org/bokeh/release/bokeh-mathjax-3.0.2.min.js\"];\n  const css_urls = [];\n\n  const inline_js = [    function(Bokeh) {\n      Bokeh.set_log_level(\"info\");\n    },\nfunction(Bokeh) {\n    }\n  ];\n\n  function run_inline_js() {\n    if (root.Bokeh !== undefined || force === true) {\n          for (let i = 0; i < inline_js.length; i++) {\n      inline_js[i].call(root, root.Bokeh);\n    }\nif (force === true) {\n        display_loaded();\n      }} else if (Date.now() < root._bokeh_timeout) {\n      setTimeout(run_inline_js, 100);\n    } else if (!root._bokeh_failed_load) {\n      console.log(\"Bokeh: BokehJS failed to load within specified timeout.\");\n      root._bokeh_failed_load = true;\n    } else if (force !== true) {\n      const cell = $(document.getElementById(\"p9917\")).parents('.cell').data().cell;\n      cell.output_area.append_execute_result(NB_LOAD_WARNING)\n    }\n  }\n\n  if (root._bokeh_is_loading === 0) {\n    console.debug(\"Bokeh: BokehJS loaded, going straight to plotting\");\n    run_inline_js();\n  } else {\n    load_libs(css_urls, js_urls, function() {\n      console.debug(\"Bokeh: BokehJS plotting callback run at\", now());\n      run_inline_js();\n    });\n  }\n}(window));",
      "application/vnd.bokehjs_load.v0+json": ""
     },
     "metadata": {},
     "output_type": "display_data"
    }
   ],
   "source": [
    "import numpy as np\n",
    "from sklearn.decomposition import PCA\n",
    "from bokeh.plotting import figure, output_notebook, show\n",
    "from bokeh.palettes import Category10\n",
    "np.set_printoptions(precision=3,suppress=True)\n",
    "output_notebook()\n",
    "N=50"
   ]
  },
  {
   "cell_type": "markdown",
   "metadata": {},
   "source": [
    "## Simple Example"
   ]
  },
  {
   "cell_type": "code",
   "execution_count": 53,
   "metadata": {},
   "outputs": [
    {
     "data": {
      "text/html": [
       "<div style=\"display: table;\"><div style=\"display: table-row;\"><div style=\"display: table-cell;\"><b title=\"bokeh.models.renderers.glyph_renderer.GlyphRenderer\">GlyphRenderer</b>(</div><div style=\"display: table-cell;\">id&nbsp;=&nbsp;'p9971', <span id=\"p9975\" style=\"cursor: pointer;\">&hellip;)</span></div></div><div class=\"p9974\" style=\"display: none;\"><div style=\"display: table-cell;\"></div><div style=\"display: table-cell;\">coordinates&nbsp;=&nbsp;None,</div></div><div class=\"p9974\" style=\"display: none;\"><div style=\"display: table-cell;\"></div><div style=\"display: table-cell;\">data_source&nbsp;=&nbsp;ColumnDataSource(id='p9965', ...),</div></div><div class=\"p9974\" style=\"display: none;\"><div style=\"display: table-cell;\"></div><div style=\"display: table-cell;\">glyph&nbsp;=&nbsp;Scatter(id='p9968', ...),</div></div><div class=\"p9974\" style=\"display: none;\"><div style=\"display: table-cell;\"></div><div style=\"display: table-cell;\">group&nbsp;=&nbsp;None,</div></div><div class=\"p9974\" style=\"display: none;\"><div style=\"display: table-cell;\"></div><div style=\"display: table-cell;\">hover_glyph&nbsp;=&nbsp;None,</div></div><div class=\"p9974\" style=\"display: none;\"><div style=\"display: table-cell;\"></div><div style=\"display: table-cell;\">js_event_callbacks&nbsp;=&nbsp;{},</div></div><div class=\"p9974\" style=\"display: none;\"><div style=\"display: table-cell;\"></div><div style=\"display: table-cell;\">js_property_callbacks&nbsp;=&nbsp;{},</div></div><div class=\"p9974\" style=\"display: none;\"><div style=\"display: table-cell;\"></div><div style=\"display: table-cell;\">level&nbsp;=&nbsp;'glyph',</div></div><div class=\"p9974\" style=\"display: none;\"><div style=\"display: table-cell;\"></div><div style=\"display: table-cell;\">muted&nbsp;=&nbsp;False,</div></div><div class=\"p9974\" style=\"display: none;\"><div style=\"display: table-cell;\"></div><div style=\"display: table-cell;\">muted_glyph&nbsp;=&nbsp;Scatter(id='p9970', ...),</div></div><div class=\"p9974\" style=\"display: none;\"><div style=\"display: table-cell;\"></div><div style=\"display: table-cell;\">name&nbsp;=&nbsp;None,</div></div><div class=\"p9974\" style=\"display: none;\"><div style=\"display: table-cell;\"></div><div style=\"display: table-cell;\">nonselection_glyph&nbsp;=&nbsp;Scatter(id='p9969', ...),</div></div><div class=\"p9974\" style=\"display: none;\"><div style=\"display: table-cell;\"></div><div style=\"display: table-cell;\">selection_glyph&nbsp;=&nbsp;'auto',</div></div><div class=\"p9974\" style=\"display: none;\"><div style=\"display: table-cell;\"></div><div style=\"display: table-cell;\">subscribed_events&nbsp;=&nbsp;PropertyValueSet(),</div></div><div class=\"p9974\" style=\"display: none;\"><div style=\"display: table-cell;\"></div><div style=\"display: table-cell;\">syncable&nbsp;=&nbsp;True,</div></div><div class=\"p9974\" style=\"display: none;\"><div style=\"display: table-cell;\"></div><div style=\"display: table-cell;\">tags&nbsp;=&nbsp;[],</div></div><div class=\"p9974\" style=\"display: none;\"><div style=\"display: table-cell;\"></div><div style=\"display: table-cell;\">view&nbsp;=&nbsp;CDSView(id='p9972', ...),</div></div><div class=\"p9974\" style=\"display: none;\"><div style=\"display: table-cell;\"></div><div style=\"display: table-cell;\">visible&nbsp;=&nbsp;True,</div></div><div class=\"p9974\" style=\"display: none;\"><div style=\"display: table-cell;\"></div><div style=\"display: table-cell;\">x_range_name&nbsp;=&nbsp;'default',</div></div><div class=\"p9974\" style=\"display: none;\"><div style=\"display: table-cell;\"></div><div style=\"display: table-cell;\">y_range_name&nbsp;=&nbsp;'default')</div></div></div>\n",
       "<script>\n",
       "(function() {\n",
       "  let expanded = false;\n",
       "  const ellipsis = document.getElementById(\"p9975\");\n",
       "  ellipsis.addEventListener(\"click\", function() {\n",
       "    const rows = document.getElementsByClassName(\"p9974\");\n",
       "    for (let i = 0; i < rows.length; i++) {\n",
       "      const el = rows[i];\n",
       "      el.style.display = expanded ? \"none\" : \"table-row\";\n",
       "    }\n",
       "    ellipsis.innerHTML = expanded ? \"&hellip;)\" : \"&lsaquo;&lsaquo;&lsaquo;\";\n",
       "    expanded = !expanded;\n",
       "  });\n",
       "})();\n",
       "</script>\n"
      ],
      "text/plain": [
       "GlyphRenderer(id='p9971', ...)"
      ]
     },
     "execution_count": 53,
     "metadata": {},
     "output_type": "execute_result"
    }
   ],
   "source": [
    "x = np.random.multivariate_normal([0,0],[[2,-2],[-2,6]],size=N)\n",
    "x=x-x.mean(axis=0)\n",
    "p=figure(title='Random sample from multivariate normal distribution with principal components',match_aspect=True)\n",
    "p.scatter(x=x[:,0],y=x[:,1])\n"
   ]
  },
  {
   "cell_type": "code",
   "execution_count": 54,
   "metadata": {},
   "outputs": [
    {
     "name": "stdout",
     "output_type": "stream",
     "text": [
      "[ 53.746 293.585]\n",
      "[[-0.951 -0.309]\n",
      " [-0.309  0.951]]\n"
     ]
    }
   ],
   "source": [
    "q = x.transpose() @ x\n",
    "V, L =np.linalg.eigh(q)\n",
    "print(V)\n",
    "print(L)"
   ]
  },
  {
   "cell_type": "code",
   "execution_count": 55,
   "metadata": {},
   "outputs": [],
   "source": [
    "xaxis=np.linspace(-4,4,10)\n",
    "ux,uy=xaxis*L[0,0],xaxis*L[1,0]\n",
    "vx,vy=xaxis*L[0,1],xaxis*L[1,1]"
   ]
  },
  {
   "cell_type": "code",
   "execution_count": 56,
   "metadata": {},
   "outputs": [
    {
     "data": {
      "text/html": [
       "\n",
       "  <div id=\"0651f52b-b235-49a6-adc9-219c9cfe8c86\" data-root-id=\"p9918\" style=\"display: contents;\"></div>\n"
      ]
     },
     "metadata": {},
     "output_type": "display_data"
    },
    {
     "data": {
      "application/javascript": "(function(root) {\n  function embed_document(root) {\n  const docs_json = {\"af7f3d33-305b-4549-98b2-424474980888\":{\"version\":\"3.0.2\",\"title\":\"Bokeh Application\",\"defs\":[],\"roots\":[{\"type\":\"object\",\"name\":\"Figure\",\"id\":\"p9918\",\"attributes\":{\"x_range\":{\"type\":\"object\",\"name\":\"DataRange1d\",\"id\":\"p9919\"},\"y_range\":{\"type\":\"object\",\"name\":\"DataRange1d\",\"id\":\"p9920\"},\"x_scale\":{\"type\":\"object\",\"name\":\"LinearScale\",\"id\":\"p9932\"},\"y_scale\":{\"type\":\"object\",\"name\":\"LinearScale\",\"id\":\"p9934\"},\"title\":{\"type\":\"object\",\"name\":\"Title\",\"id\":\"p9921\",\"attributes\":{\"text\":\"Random sample from multivariate normal distribution with principal components\"}},\"renderers\":[{\"type\":\"object\",\"name\":\"GlyphRenderer\",\"id\":\"p9971\",\"attributes\":{\"data_source\":{\"type\":\"object\",\"name\":\"ColumnDataSource\",\"id\":\"p9965\",\"attributes\":{\"selected\":{\"type\":\"object\",\"name\":\"Selection\",\"id\":\"p9966\",\"attributes\":{\"indices\":[],\"line_indices\":[]}},\"selection_policy\":{\"type\":\"object\",\"name\":\"UnionRenderers\",\"id\":\"p9967\"},\"data\":{\"type\":\"map\",\"entries\":[[\"x\",{\"type\":\"ndarray\",\"array\":{\"type\":\"bytes\",\"data\":\"l603sBlf+T8jACTP1nn1P3idxkxMaOq/sLBwVziB4r9xyUc9zxf3PyTLOB/sIeE/Cb4PAvWN6j9sOQ32M7IHQPhTo9Fulte/Y030xERMx7+LcWB/qsTkv4hRBuQUONA/azsy4X6t/r+r6I2HkELxP46cilCuR+I//t6TBgCd67/Rn2GvtHPjv27lUwF6TvA/vFoqokpv4b84rJ0FBeHov+JpbSzS5P+/MNgrxIli878onBu3gHHTv9xhbNf4Q/q/JZiloVIiA8AqqLEHpPXqv25n2EZxItO/wHFby4Fq0L910b2cZT75v0JeEs3XAgNAfFE4ojWM6L9/7/ZPuyDqv4K55pknleA/6hHbkqVd8D/9fZD1Jd/LPxU+StCPgME/G+ITj31AAMD4SJmMwBexv8etC6G6ZPs/Wj8wKAqI4D8C53LQJpPuv2LLi/Sa27E/QN6OwSJ97D90X/05770DQDRwFlhcPaw/V/n07KCn8r8D3L0nVAT3P351PddLmdU/jdK04sR9/j+l3xNw7236vw==\"},\"shape\":[50],\"dtype\":\"float64\",\"order\":\"little\"}],[\"y\",{\"type\":\"ndarray\",\"array\":{\"type\":\"bytes\",\"data\":\"jJ9mfRU8/79GfcU2Q5gSwL0V1U2cnxFAj5rTZM5A5z+m3l0Na/nYvwn16Gt0QuG/Ggpe/7QY+7/p2rji2CPgvxaiAmKfAvI/BjLRF3fn878T/uZbTD8BwMnmB4jp6+s/qN7V8tmHBUBmHroaUR4DQA+j+/8Mew3AOq41b2TG/r8k1y7Ul2P4P2xAcJ3/BeE/Fqzq77FqAECSspf6gbH0v8W9AKzdsg1AWNhB729z1T9uayHLtxXqP3uQDhUYew1AoSfY8IPQFkBZMj5lb28AQO3yhuLztOa/Qfz4/JhX8T++kb8mjZ33P/I603SLRtA/sH/NRuGp/z/lQx6c38PrP3U/2fob9ec/CO2LAu83EcAcjEFATdn+v8+EiAE2vgDA+WRCokLbC0BAjZEpqcSeP7BgP06KSeo/wOgro1/l/b/c2ys1Qg8GQMcb46kghAXAIgHhMX/U/L8ibQCq0b/6v1VWdX2YyRHA/I/dQE0Nyr/bT2zl4K0HwFL8V7F4mtY/dOTI2acj7j8Hw+Mn2rYFwA==\"},\"shape\":[50],\"dtype\":\"float64\",\"order\":\"little\"}]]}}},\"view\":{\"type\":\"object\",\"name\":\"CDSView\",\"id\":\"p9972\",\"attributes\":{\"filter\":{\"type\":\"object\",\"name\":\"AllIndices\",\"id\":\"p9973\"}}},\"glyph\":{\"type\":\"object\",\"name\":\"Scatter\",\"id\":\"p9968\",\"attributes\":{\"x\":{\"type\":\"field\",\"field\":\"x\"},\"y\":{\"type\":\"field\",\"field\":\"y\"},\"line_color\":{\"type\":\"value\",\"value\":\"#1f77b4\"},\"fill_color\":{\"type\":\"value\",\"value\":\"#1f77b4\"}}},\"nonselection_glyph\":{\"type\":\"object\",\"name\":\"Scatter\",\"id\":\"p9969\",\"attributes\":{\"x\":{\"type\":\"field\",\"field\":\"x\"},\"y\":{\"type\":\"field\",\"field\":\"y\"},\"line_color\":{\"type\":\"value\",\"value\":\"#1f77b4\"},\"line_alpha\":{\"type\":\"value\",\"value\":0.1},\"fill_color\":{\"type\":\"value\",\"value\":\"#1f77b4\"},\"fill_alpha\":{\"type\":\"value\",\"value\":0.1},\"hatch_alpha\":{\"type\":\"value\",\"value\":0.1}}},\"muted_glyph\":{\"type\":\"object\",\"name\":\"Scatter\",\"id\":\"p9970\",\"attributes\":{\"x\":{\"type\":\"field\",\"field\":\"x\"},\"y\":{\"type\":\"field\",\"field\":\"y\"},\"line_color\":{\"type\":\"value\",\"value\":\"#1f77b4\"},\"line_alpha\":{\"type\":\"value\",\"value\":0.2},\"fill_color\":{\"type\":\"value\",\"value\":\"#1f77b4\"},\"fill_alpha\":{\"type\":\"value\",\"value\":0.2},\"hatch_alpha\":{\"type\":\"value\",\"value\":0.2}}}}},{\"type\":\"object\",\"name\":\"GlyphRenderer\",\"id\":\"p9984\",\"attributes\":{\"data_source\":{\"type\":\"object\",\"name\":\"ColumnDataSource\",\"id\":\"p9978\",\"attributes\":{\"selected\":{\"type\":\"object\",\"name\":\"Selection\",\"id\":\"p9979\",\"attributes\":{\"indices\":[],\"line_indices\":[]}},\"selection_policy\":{\"type\":\"object\",\"name\":\"UnionRenderers\",\"id\":\"p9980\"},\"data\":{\"type\":\"map\",\"entries\":[[\"x\",{\"type\":\"ndarray\",\"array\":{\"type\":\"bytes\",\"data\":\"iSE/DdZuDkDci00KiqsHQDD2Wwc+6ABAB8HUCORJ9D+2VsYLMA3bP7ZWxgswDdu/BcHUCORJ9L8u9lsHPugAwNuLTQqKqwfAiSE/DdZuDsA=\"},\"shape\":[10],\"dtype\":\"float64\",\"order\":\"little\"}],[\"y\",{\"type\":\"ndarray\",\"array\":{\"type\":\"bytes\",\"data\":\"IjybAkjI8z8ZQWNZxcXuP+0JkK36+uU/g6V5A2Bg2j9ZbqZXlZXBP1lupleVlcG/gaV5A2Bg2r/rCZCt+vrlvxdBY1nFxe6/IjybAkjI878=\"},\"shape\":[10],\"dtype\":\"float64\",\"order\":\"little\"}]]}}},\"view\":{\"type\":\"object\",\"name\":\"CDSView\",\"id\":\"p9985\",\"attributes\":{\"filter\":{\"type\":\"object\",\"name\":\"AllIndices\",\"id\":\"p9986\"}}},\"glyph\":{\"type\":\"object\",\"name\":\"Line\",\"id\":\"p9981\",\"attributes\":{\"x\":{\"type\":\"field\",\"field\":\"x\"},\"y\":{\"type\":\"field\",\"field\":\"y\"},\"line_color\":\"green\"}},\"nonselection_glyph\":{\"type\":\"object\",\"name\":\"Line\",\"id\":\"p9982\",\"attributes\":{\"x\":{\"type\":\"field\",\"field\":\"x\"},\"y\":{\"type\":\"field\",\"field\":\"y\"},\"line_color\":\"green\",\"line_alpha\":0.1}},\"muted_glyph\":{\"type\":\"object\",\"name\":\"Line\",\"id\":\"p9983\",\"attributes\":{\"x\":{\"type\":\"field\",\"field\":\"x\"},\"y\":{\"type\":\"field\",\"field\":\"y\"},\"line_color\":\"green\",\"line_alpha\":0.2}}}},{\"type\":\"object\",\"name\":\"GlyphRenderer\",\"id\":\"p9993\",\"attributes\":{\"data_source\":{\"type\":\"object\",\"name\":\"ColumnDataSource\",\"id\":\"p9987\",\"attributes\":{\"selected\":{\"type\":\"object\",\"name\":\"Selection\",\"id\":\"p9988\",\"attributes\":{\"indices\":[],\"line_indices\":[]}},\"selection_policy\":{\"type\":\"object\",\"name\":\"UnionRenderers\",\"id\":\"p9989\"},\"data\":{\"type\":\"map\",\"entries\":[[\"x\",{\"type\":\"ndarray\",\"array\":{\"type\":\"bytes\",\"data\":\"IjybAkjI8z8ZQWNZxcXuP+0JkK36+uU/g6V5A2Bg2j9ZbqZXlZXBP1lupleVlcG/gaV5A2Bg2r/rCZCt+vrlvxdBY1nFxe6/IjybAkjI878=\"},\"shape\":[10],\"dtype\":\"float64\",\"order\":\"little\"}],[\"y\",{\"type\":\"ndarray\",\"array\":{\"type\":\"bytes\",\"data\":\"iSE/DdZuDsDci00KiqsHwDD2Wwc+6ADAB8HUCORJ9L+2VsYLMA3bv7ZWxgswDds/BcHUCORJ9D8u9lsHPugAQNuLTQqKqwdAiSE/DdZuDkA=\"},\"shape\":[10],\"dtype\":\"float64\",\"order\":\"little\"}]]}}},\"view\":{\"type\":\"object\",\"name\":\"CDSView\",\"id\":\"p9994\",\"attributes\":{\"filter\":{\"type\":\"object\",\"name\":\"AllIndices\",\"id\":\"p9995\"}}},\"glyph\":{\"type\":\"object\",\"name\":\"Line\",\"id\":\"p9990\",\"attributes\":{\"x\":{\"type\":\"field\",\"field\":\"x\"},\"y\":{\"type\":\"field\",\"field\":\"y\"},\"line_color\":\"green\"}},\"nonselection_glyph\":{\"type\":\"object\",\"name\":\"Line\",\"id\":\"p9991\",\"attributes\":{\"x\":{\"type\":\"field\",\"field\":\"x\"},\"y\":{\"type\":\"field\",\"field\":\"y\"},\"line_color\":\"green\",\"line_alpha\":0.1}},\"muted_glyph\":{\"type\":\"object\",\"name\":\"Line\",\"id\":\"p9992\",\"attributes\":{\"x\":{\"type\":\"field\",\"field\":\"x\"},\"y\":{\"type\":\"field\",\"field\":\"y\"},\"line_color\":\"green\",\"line_alpha\":0.2}}}}],\"toolbar\":{\"type\":\"object\",\"name\":\"Toolbar\",\"id\":\"p9927\",\"attributes\":{\"tools\":[{\"type\":\"object\",\"name\":\"PanTool\",\"id\":\"p9950\"},{\"type\":\"object\",\"name\":\"WheelZoomTool\",\"id\":\"p9951\"},{\"type\":\"object\",\"name\":\"BoxZoomTool\",\"id\":\"p9952\",\"attributes\":{\"overlay\":{\"type\":\"object\",\"name\":\"BoxAnnotation\",\"id\":\"p9953\",\"attributes\":{\"syncable\":false,\"level\":\"overlay\",\"visible\":false,\"left_units\":\"canvas\",\"right_units\":\"canvas\",\"bottom_units\":\"canvas\",\"top_units\":\"canvas\",\"line_color\":\"black\",\"line_alpha\":1.0,\"line_width\":2,\"line_dash\":[4,4],\"fill_color\":\"lightgrey\",\"fill_alpha\":0.5}}}},{\"type\":\"object\",\"name\":\"SaveTool\",\"id\":\"p9954\"},{\"type\":\"object\",\"name\":\"ResetTool\",\"id\":\"p9955\"},{\"type\":\"object\",\"name\":\"HelpTool\",\"id\":\"p9956\"}]}},\"left\":[{\"type\":\"object\",\"name\":\"LinearAxis\",\"id\":\"p9943\",\"attributes\":{\"ticker\":{\"type\":\"object\",\"name\":\"BasicTicker\",\"id\":\"p9945\",\"attributes\":{\"mantissas\":[1,2,5]}},\"formatter\":{\"type\":\"object\",\"name\":\"BasicTickFormatter\",\"id\":\"p9946\"},\"major_label_policy\":{\"type\":\"object\",\"name\":\"AllLabels\",\"id\":\"p9944\"}}}],\"below\":[{\"type\":\"object\",\"name\":\"LinearAxis\",\"id\":\"p9936\",\"attributes\":{\"ticker\":{\"type\":\"object\",\"name\":\"BasicTicker\",\"id\":\"p9938\",\"attributes\":{\"mantissas\":[1,2,5]}},\"formatter\":{\"type\":\"object\",\"name\":\"BasicTickFormatter\",\"id\":\"p9939\"},\"major_label_policy\":{\"type\":\"object\",\"name\":\"AllLabels\",\"id\":\"p9937\"}}}],\"center\":[{\"type\":\"object\",\"name\":\"Grid\",\"id\":\"p9942\",\"attributes\":{\"axis\":{\"id\":\"p9936\"}}},{\"type\":\"object\",\"name\":\"Grid\",\"id\":\"p9949\",\"attributes\":{\"dimension\":1,\"axis\":{\"id\":\"p9943\"}}}],\"match_aspect\":true}}]}};\n  const render_items = [{\"docid\":\"af7f3d33-305b-4549-98b2-424474980888\",\"roots\":{\"p9918\":\"0651f52b-b235-49a6-adc9-219c9cfe8c86\"},\"root_ids\":[\"p9918\"]}];\n  root.Bokeh.embed.embed_items_notebook(docs_json, render_items);\n  }\n  if (root.Bokeh !== undefined) {\n    embed_document(root);\n  } else {\n    let attempts = 0;\n    const timer = setInterval(function(root) {\n      if (root.Bokeh !== undefined) {\n        clearInterval(timer);\n        embed_document(root);\n      } else {\n        attempts++;\n        if (attempts > 100) {\n          clearInterval(timer);\n          console.log(\"Bokeh: ERROR: Unable to run BokehJS code because BokehJS library is missing\");\n        }\n      }\n    }, 10, root)\n  }\n})(window);",
      "application/vnd.bokehjs_exec.v0+json": ""
     },
     "metadata": {
      "application/vnd.bokehjs_exec.v0+json": {
       "id": "p9918"
      }
     },
     "output_type": "display_data"
    }
   ],
   "source": [
    "p.line(x=ux,y=uy,color='green')\n",
    "p.line(x=vx,y=vy,color='green')\n",
    "show(p)"
   ]
  },
  {
   "cell_type": "markdown",
   "metadata": {},
   "source": [
    "## Dimensionality Reduction"
   ]
  },
  {
   "cell_type": "code",
   "execution_count": 57,
   "metadata": {},
   "outputs": [
    {
     "data": {
      "text/plain": [
       "(200, 16)"
      ]
     },
     "execution_count": 57,
     "metadata": {},
     "output_type": "execute_result"
    }
   ],
   "source": [
    "data = np.loadtxt(fname=\"data/simulated_pca_data.csv\",delimiter=',')\n",
    "data.shape"
   ]
  },
  {
   "cell_type": "code",
   "execution_count": 58,
   "metadata": {},
   "outputs": [],
   "source": [
    "data = data - data.mean(axis=0)\n",
    "Q=data.transpose() @ data"
   ]
  },
  {
   "cell_type": "code",
   "execution_count": 59,
   "metadata": {},
   "outputs": [
    {
     "data": {
      "text/html": [
       "\n",
       "  <div id=\"fb2a2b75-e778-4684-8a99-d5431554a047\" data-root-id=\"p10400\" style=\"display: contents;\"></div>\n"
      ]
     },
     "metadata": {},
     "output_type": "display_data"
    },
    {
     "data": {
      "application/javascript": "(function(root) {\n  function embed_document(root) {\n  const docs_json = {\"ce21ea4b-4a3b-49ae-bfcf-eef90053fdf4\":{\"version\":\"3.0.2\",\"title\":\"Bokeh Application\",\"defs\":[],\"roots\":[{\"type\":\"object\",\"name\":\"Figure\",\"id\":\"p10400\",\"attributes\":{\"x_range\":{\"type\":\"object\",\"name\":\"DataRange1d\",\"id\":\"p10401\"},\"y_range\":{\"type\":\"object\",\"name\":\"DataRange1d\",\"id\":\"p10402\"},\"x_scale\":{\"type\":\"object\",\"name\":\"LinearScale\",\"id\":\"p10414\"},\"y_scale\":{\"type\":\"object\",\"name\":\"LinearScale\",\"id\":\"p10416\"},\"title\":{\"type\":\"object\",\"name\":\"Title\",\"id\":\"p10403\",\"attributes\":{\"text\":\"First two features of the data\"}},\"renderers\":[{\"type\":\"object\",\"name\":\"GlyphRenderer\",\"id\":\"p10453\",\"attributes\":{\"data_source\":{\"type\":\"object\",\"name\":\"ColumnDataSource\",\"id\":\"p10447\",\"attributes\":{\"selected\":{\"type\":\"object\",\"name\":\"Selection\",\"id\":\"p10448\",\"attributes\":{\"indices\":[],\"line_indices\":[]}},\"selection_policy\":{\"type\":\"object\",\"name\":\"UnionRenderers\",\"id\":\"p10449\"},\"data\":{\"type\":\"map\",\"entries\":[[\"x\",{\"type\":\"ndarray\",\"array\":{\"type\":\"bytes\",\"data\":\"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\"},\"shape\":[200],\"dtype\":\"float64\",\"order\":\"little\"}],[\"y\",{\"type\":\"ndarray\",\"array\":{\"type\":\"bytes\",\"data\":\"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\"},\"shape\":[200],\"dtype\":\"float64\",\"order\":\"little\"}]]}}},\"view\":{\"type\":\"object\",\"name\":\"CDSView\",\"id\":\"p10454\",\"attributes\":{\"filter\":{\"type\":\"object\",\"name\":\"AllIndices\",\"id\":\"p10455\"}}},\"glyph\":{\"type\":\"object\",\"name\":\"Scatter\",\"id\":\"p10450\",\"attributes\":{\"x\":{\"type\":\"field\",\"field\":\"x\"},\"y\":{\"type\":\"field\",\"field\":\"y\"},\"line_color\":{\"type\":\"value\",\"value\":\"#1f77b4\"},\"fill_color\":{\"type\":\"value\",\"value\":\"#1f77b4\"}}},\"nonselection_glyph\":{\"type\":\"object\",\"name\":\"Scatter\",\"id\":\"p10451\",\"attributes\":{\"x\":{\"type\":\"field\",\"field\":\"x\"},\"y\":{\"type\":\"field\",\"field\":\"y\"},\"line_color\":{\"type\":\"value\",\"value\":\"#1f77b4\"},\"line_alpha\":{\"type\":\"value\",\"value\":0.1},\"fill_color\":{\"type\":\"value\",\"value\":\"#1f77b4\"},\"fill_alpha\":{\"type\":\"value\",\"value\":0.1},\"hatch_alpha\":{\"type\":\"value\",\"value\":0.1}}},\"muted_glyph\":{\"type\":\"object\",\"name\":\"Scatter\",\"id\":\"p10452\",\"attributes\":{\"x\":{\"type\":\"field\",\"field\":\"x\"},\"y\":{\"type\":\"field\",\"field\":\"y\"},\"line_color\":{\"type\":\"value\",\"value\":\"#1f77b4\"},\"line_alpha\":{\"type\":\"value\",\"value\":0.2},\"fill_color\":{\"type\":\"value\",\"value\":\"#1f77b4\"},\"fill_alpha\":{\"type\":\"value\",\"value\":0.2},\"hatch_alpha\":{\"type\":\"value\",\"value\":0.2}}}}}],\"toolbar\":{\"type\":\"object\",\"name\":\"Toolbar\",\"id\":\"p10409\",\"attributes\":{\"tools\":[{\"type\":\"object\",\"name\":\"PanTool\",\"id\":\"p10432\"},{\"type\":\"object\",\"name\":\"WheelZoomTool\",\"id\":\"p10433\"},{\"type\":\"object\",\"name\":\"BoxZoomTool\",\"id\":\"p10434\",\"attributes\":{\"overlay\":{\"type\":\"object\",\"name\":\"BoxAnnotation\",\"id\":\"p10435\",\"attributes\":{\"syncable\":false,\"level\":\"overlay\",\"visible\":false,\"left_units\":\"canvas\",\"right_units\":\"canvas\",\"bottom_units\":\"canvas\",\"top_units\":\"canvas\",\"line_color\":\"black\",\"line_alpha\":1.0,\"line_width\":2,\"line_dash\":[4,4],\"fill_color\":\"lightgrey\",\"fill_alpha\":0.5}}}},{\"type\":\"object\",\"name\":\"SaveTool\",\"id\":\"p10436\"},{\"type\":\"object\",\"name\":\"ResetTool\",\"id\":\"p10437\"},{\"type\":\"object\",\"name\":\"HelpTool\",\"id\":\"p10438\"}]}},\"left\":[{\"type\":\"object\",\"name\":\"LinearAxis\",\"id\":\"p10425\",\"attributes\":{\"ticker\":{\"type\":\"object\",\"name\":\"BasicTicker\",\"id\":\"p10427\",\"attributes\":{\"mantissas\":[1,2,5]}},\"formatter\":{\"type\":\"object\",\"name\":\"BasicTickFormatter\",\"id\":\"p10428\"},\"major_label_policy\":{\"type\":\"object\",\"name\":\"AllLabels\",\"id\":\"p10426\"}}}],\"below\":[{\"type\":\"object\",\"name\":\"LinearAxis\",\"id\":\"p10418\",\"attributes\":{\"ticker\":{\"type\":\"object\",\"name\":\"BasicTicker\",\"id\":\"p10420\",\"attributes\":{\"mantissas\":[1,2,5]}},\"formatter\":{\"type\":\"object\",\"name\":\"BasicTickFormatter\",\"id\":\"p10421\"},\"major_label_policy\":{\"type\":\"object\",\"name\":\"AllLabels\",\"id\":\"p10419\"}}}],\"center\":[{\"type\":\"object\",\"name\":\"Grid\",\"id\":\"p10424\",\"attributes\":{\"axis\":{\"id\":\"p10418\"}}},{\"type\":\"object\",\"name\":\"Grid\",\"id\":\"p10431\",\"attributes\":{\"dimension\":1,\"axis\":{\"id\":\"p10425\"}}}]}}]}};\n  const render_items = [{\"docid\":\"ce21ea4b-4a3b-49ae-bfcf-eef90053fdf4\",\"roots\":{\"p10400\":\"fb2a2b75-e778-4684-8a99-d5431554a047\"},\"root_ids\":[\"p10400\"]}];\n  root.Bokeh.embed.embed_items_notebook(docs_json, render_items);\n  }\n  if (root.Bokeh !== undefined) {\n    embed_document(root);\n  } else {\n    let attempts = 0;\n    const timer = setInterval(function(root) {\n      if (root.Bokeh !== undefined) {\n        clearInterval(timer);\n        embed_document(root);\n      } else {\n        attempts++;\n        if (attempts > 100) {\n          clearInterval(timer);\n          console.log(\"Bokeh: ERROR: Unable to run BokehJS code because BokehJS library is missing\");\n        }\n      }\n    }, 10, root)\n  }\n})(window);",
      "application/vnd.bokehjs_exec.v0+json": ""
     },
     "metadata": {
      "application/vnd.bokehjs_exec.v0+json": {
       "id": "p10400"
      }
     },
     "output_type": "display_data"
    }
   ],
   "source": [
    "p=figure(title=\"First two features of the data\")\n",
    "p.scatter(x=data[:,0],y=data[:,1])\n",
    "show(p)"
   ]
  },
  {
   "cell_type": "code",
   "execution_count": 60,
   "metadata": {},
   "outputs": [],
   "source": [
    "L, V = np.linalg.eigh(Q)"
   ]
  },
  {
   "cell_type": "code",
   "execution_count": 61,
   "metadata": {},
   "outputs": [
    {
     "data": {
      "text/html": [
       "\n",
       "  <div id=\"b2677d1c-8b79-4adc-ade6-2534e78febf8\" data-root-id=\"p10813\" style=\"display: contents;\"></div>\n"
      ]
     },
     "metadata": {},
     "output_type": "display_data"
    },
    {
     "data": {
      "application/javascript": "(function(root) {\n  function embed_document(root) {\n  const docs_json = {\"546d7768-d788-4dfd-9624-dac7068599b1\":{\"version\":\"3.0.2\",\"title\":\"Bokeh Application\",\"defs\":[],\"roots\":[{\"type\":\"object\",\"name\":\"Figure\",\"id\":\"p10813\",\"attributes\":{\"x_range\":{\"type\":\"object\",\"name\":\"DataRange1d\",\"id\":\"p10814\"},\"y_range\":{\"type\":\"object\",\"name\":\"DataRange1d\",\"id\":\"p10815\"},\"x_scale\":{\"type\":\"object\",\"name\":\"LinearScale\",\"id\":\"p10827\"},\"y_scale\":{\"type\":\"object\",\"name\":\"LinearScale\",\"id\":\"p10829\"},\"title\":{\"type\":\"object\",\"name\":\"Title\",\"id\":\"p10816\",\"attributes\":{\"text\":\"Eigenvalues\"}},\"renderers\":[{\"type\":\"object\",\"name\":\"GlyphRenderer\",\"id\":\"p10866\",\"attributes\":{\"data_source\":{\"type\":\"object\",\"name\":\"ColumnDataSource\",\"id\":\"p10860\",\"attributes\":{\"selected\":{\"type\":\"object\",\"name\":\"Selection\",\"id\":\"p10861\",\"attributes\":{\"indices\":[],\"line_indices\":[]}},\"selection_policy\":{\"type\":\"object\",\"name\":\"UnionRenderers\",\"id\":\"p10862\"},\"data\":{\"type\":\"map\",\"entries\":[[\"x\",[0,1,2,3,4,5,6,7,8,9,10,11,12,13,14,15]],[\"y\",{\"type\":\"ndarray\",\"array\":{\"type\":\"bytes\",\"data\":\"4qs3WwyVIUCjYXDHGbAlQG13TZJ0RSpAUyglOH9TLUDF2wXwmLguQBd7bxsSxzBAJapO+IVVMUDi98YpRoIyQCSvBUzs3DNA6LpPZP4gNEDA72OA0lw1QDod+hSmZDhA06CtDBD5XkAF/N9xYCxrQObKSuzN/ndAnDpMV6BKgEA=\"},\"shape\":[16],\"dtype\":\"float64\",\"order\":\"little\"}]]}}},\"view\":{\"type\":\"object\",\"name\":\"CDSView\",\"id\":\"p10867\",\"attributes\":{\"filter\":{\"type\":\"object\",\"name\":\"AllIndices\",\"id\":\"p10868\"}}},\"glyph\":{\"type\":\"object\",\"name\":\"Line\",\"id\":\"p10863\",\"attributes\":{\"x\":{\"type\":\"field\",\"field\":\"x\"},\"y\":{\"type\":\"field\",\"field\":\"y\"},\"line_color\":\"#1f77b4\"}},\"nonselection_glyph\":{\"type\":\"object\",\"name\":\"Line\",\"id\":\"p10864\",\"attributes\":{\"x\":{\"type\":\"field\",\"field\":\"x\"},\"y\":{\"type\":\"field\",\"field\":\"y\"},\"line_color\":\"#1f77b4\",\"line_alpha\":0.1}},\"muted_glyph\":{\"type\":\"object\",\"name\":\"Line\",\"id\":\"p10865\",\"attributes\":{\"x\":{\"type\":\"field\",\"field\":\"x\"},\"y\":{\"type\":\"field\",\"field\":\"y\"},\"line_color\":\"#1f77b4\",\"line_alpha\":0.2}}}}],\"toolbar\":{\"type\":\"object\",\"name\":\"Toolbar\",\"id\":\"p10822\",\"attributes\":{\"tools\":[{\"type\":\"object\",\"name\":\"PanTool\",\"id\":\"p10845\"},{\"type\":\"object\",\"name\":\"WheelZoomTool\",\"id\":\"p10846\"},{\"type\":\"object\",\"name\":\"BoxZoomTool\",\"id\":\"p10847\",\"attributes\":{\"overlay\":{\"type\":\"object\",\"name\":\"BoxAnnotation\",\"id\":\"p10848\",\"attributes\":{\"syncable\":false,\"level\":\"overlay\",\"visible\":false,\"left_units\":\"canvas\",\"right_units\":\"canvas\",\"bottom_units\":\"canvas\",\"top_units\":\"canvas\",\"line_color\":\"black\",\"line_alpha\":1.0,\"line_width\":2,\"line_dash\":[4,4],\"fill_color\":\"lightgrey\",\"fill_alpha\":0.5}}}},{\"type\":\"object\",\"name\":\"SaveTool\",\"id\":\"p10849\"},{\"type\":\"object\",\"name\":\"ResetTool\",\"id\":\"p10850\"},{\"type\":\"object\",\"name\":\"HelpTool\",\"id\":\"p10851\"}]}},\"left\":[{\"type\":\"object\",\"name\":\"LinearAxis\",\"id\":\"p10838\",\"attributes\":{\"ticker\":{\"type\":\"object\",\"name\":\"BasicTicker\",\"id\":\"p10840\",\"attributes\":{\"mantissas\":[1,2,5]}},\"formatter\":{\"type\":\"object\",\"name\":\"BasicTickFormatter\",\"id\":\"p10841\"},\"major_label_policy\":{\"type\":\"object\",\"name\":\"AllLabels\",\"id\":\"p10839\"}}}],\"below\":[{\"type\":\"object\",\"name\":\"LinearAxis\",\"id\":\"p10831\",\"attributes\":{\"ticker\":{\"type\":\"object\",\"name\":\"BasicTicker\",\"id\":\"p10833\",\"attributes\":{\"mantissas\":[1,2,5]}},\"formatter\":{\"type\":\"object\",\"name\":\"BasicTickFormatter\",\"id\":\"p10834\"},\"major_label_policy\":{\"type\":\"object\",\"name\":\"AllLabels\",\"id\":\"p10832\"}}}],\"center\":[{\"type\":\"object\",\"name\":\"Grid\",\"id\":\"p10837\",\"attributes\":{\"axis\":{\"id\":\"p10831\"}}},{\"type\":\"object\",\"name\":\"Grid\",\"id\":\"p10844\",\"attributes\":{\"dimension\":1,\"axis\":{\"id\":\"p10838\"}}}]}}]}};\n  const render_items = [{\"docid\":\"546d7768-d788-4dfd-9624-dac7068599b1\",\"roots\":{\"p10813\":\"b2677d1c-8b79-4adc-ade6-2534e78febf8\"},\"root_ids\":[\"p10813\"]}];\n  root.Bokeh.embed.embed_items_notebook(docs_json, render_items);\n  }\n  if (root.Bokeh !== undefined) {\n    embed_document(root);\n  } else {\n    let attempts = 0;\n    const timer = setInterval(function(root) {\n      if (root.Bokeh !== undefined) {\n        clearInterval(timer);\n        embed_document(root);\n      } else {\n        attempts++;\n        if (attempts > 100) {\n          clearInterval(timer);\n          console.log(\"Bokeh: ERROR: Unable to run BokehJS code because BokehJS library is missing\");\n        }\n      }\n    }, 10, root)\n  }\n})(window);",
      "application/vnd.bokehjs_exec.v0+json": ""
     },
     "metadata": {
      "application/vnd.bokehjs_exec.v0+json": {
       "id": "p10813"
      }
     },
     "output_type": "display_data"
    }
   ],
   "source": [
    "p=figure(title=\"Eigenvalues\")\n",
    "p.line(x=list(range(L.shape[0])),y=L)\n",
    "show(p)"
   ]
  },
  {
   "cell_type": "code",
   "execution_count": 62,
   "metadata": {},
   "outputs": [
    {
     "data": {
      "text/plain": [
       "array([[ 0.152, -0.116],\n",
       "       [-0.017,  0.081],\n",
       "       [-0.162, -0.122],\n",
       "       [ 0.057, -0.089],\n",
       "       [ 0.261,  0.   ],\n",
       "       [-0.398,  0.01 ],\n",
       "       [-0.038, -0.06 ],\n",
       "       [-0.249, -0.043],\n",
       "       [ 0.247,  0.212],\n",
       "       [ 0.167, -0.162],\n",
       "       [-0.203, -0.048],\n",
       "       [ 0.466, -0.222],\n",
       "       [ 0.173, -0.239],\n",
       "       [ 0.305,  0.097],\n",
       "       [ 0.43 ,  0.258],\n",
       "       [-0.043,  0.834]])"
      ]
     },
     "execution_count": 62,
     "metadata": {},
     "output_type": "execute_result"
    }
   ],
   "source": [
    "V.shape\n",
    "V[:,-2:]"
   ]
  },
  {
   "cell_type": "code",
   "execution_count": 63,
   "metadata": {},
   "outputs": [],
   "source": [
    "PCA = data @ V[:,-2:]"
   ]
  },
  {
   "cell_type": "code",
   "execution_count": 64,
   "metadata": {},
   "outputs": [
    {
     "data": {
      "text/html": [
       "\n",
       "  <div id=\"8af5cb22-c408-40a4-909d-3f0efa2ca9f9\" data-root-id=\"p11241\" style=\"display: contents;\"></div>\n"
      ]
     },
     "metadata": {},
     "output_type": "display_data"
    },
    {
     "data": {
      "application/javascript": "(function(root) {\n  function embed_document(root) {\n  const docs_json = {\"0e487ad3-a9e2-491a-a010-c2ece50f370f\":{\"version\":\"3.0.2\",\"title\":\"Bokeh Application\",\"defs\":[],\"roots\":[{\"type\":\"object\",\"name\":\"Figure\",\"id\":\"p11241\",\"attributes\":{\"x_range\":{\"type\":\"object\",\"name\":\"Range1d\",\"id\":\"p11251\",\"attributes\":{\"start\":-3,\"end\":3}},\"y_range\":{\"type\":\"object\",\"name\":\"Range1d\",\"id\":\"p11253\",\"attributes\":{\"start\":-3,\"end\":3}},\"x_scale\":{\"type\":\"object\",\"name\":\"LinearScale\",\"id\":\"p11255\"},\"y_scale\":{\"type\":\"object\",\"name\":\"LinearScale\",\"id\":\"p11257\"},\"title\":{\"type\":\"object\",\"name\":\"Title\",\"id\":\"p11244\",\"attributes\":{\"text\":\"First Two Principal Components\"}},\"renderers\":[{\"type\":\"object\",\"name\":\"GlyphRenderer\",\"id\":\"p11294\",\"attributes\":{\"data_source\":{\"type\":\"object\",\"name\":\"ColumnDataSource\",\"id\":\"p11288\",\"attributes\":{\"selected\":{\"type\":\"object\",\"name\":\"Selection\",\"id\":\"p11289\",\"attributes\":{\"indices\":[],\"line_indices\":[]}},\"selection_policy\":{\"type\":\"object\",\"name\":\"UnionRenderers\",\"id\":\"p11290\"},\"data\":{\"type\":\"map\",\"entries\":[[\"x\",{\"type\":\"ndarray\",\"array\":{\"type\":\"bytes\",\"data\":\"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\"},\"shape\":[200],\"dtype\":\"float64\",\"order\":\"little\"}],[\"y\",{\"type\":\"ndarray\",\"array\":{\"type\":\"bytes\",\"data\":\"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\"},\"shape\":[200],\"dtype\":\"float64\",\"order\":\"little\"}]]}}},\"view\":{\"type\":\"object\",\"name\":\"CDSView\",\"id\":\"p11295\",\"attributes\":{\"filter\":{\"type\":\"object\",\"name\":\"AllIndices\",\"id\":\"p11296\"}}},\"glyph\":{\"type\":\"object\",\"name\":\"Scatter\",\"id\":\"p11291\",\"attributes\":{\"x\":{\"type\":\"field\",\"field\":\"x\"},\"y\":{\"type\":\"field\",\"field\":\"y\"},\"line_color\":{\"type\":\"value\",\"value\":\"#1f77b4\"},\"fill_color\":{\"type\":\"value\",\"value\":\"#1f77b4\"}}},\"nonselection_glyph\":{\"type\":\"object\",\"name\":\"Scatter\",\"id\":\"p11292\",\"attributes\":{\"x\":{\"type\":\"field\",\"field\":\"x\"},\"y\":{\"type\":\"field\",\"field\":\"y\"},\"line_color\":{\"type\":\"value\",\"value\":\"#1f77b4\"},\"line_alpha\":{\"type\":\"value\",\"value\":0.1},\"fill_color\":{\"type\":\"value\",\"value\":\"#1f77b4\"},\"fill_alpha\":{\"type\":\"value\",\"value\":0.1},\"hatch_alpha\":{\"type\":\"value\",\"value\":0.1}}},\"muted_glyph\":{\"type\":\"object\",\"name\":\"Scatter\",\"id\":\"p11293\",\"attributes\":{\"x\":{\"type\":\"field\",\"field\":\"x\"},\"y\":{\"type\":\"field\",\"field\":\"y\"},\"line_color\":{\"type\":\"value\",\"value\":\"#1f77b4\"},\"line_alpha\":{\"type\":\"value\",\"value\":0.2},\"fill_color\":{\"type\":\"value\",\"value\":\"#1f77b4\"},\"fill_alpha\":{\"type\":\"value\",\"value\":0.2},\"hatch_alpha\":{\"type\":\"value\",\"value\":0.2}}}}}],\"toolbar\":{\"type\":\"object\",\"name\":\"Toolbar\",\"id\":\"p11250\",\"attributes\":{\"tools\":[{\"type\":\"object\",\"name\":\"PanTool\",\"id\":\"p11273\"},{\"type\":\"object\",\"name\":\"WheelZoomTool\",\"id\":\"p11274\"},{\"type\":\"object\",\"name\":\"BoxZoomTool\",\"id\":\"p11275\",\"attributes\":{\"overlay\":{\"type\":\"object\",\"name\":\"BoxAnnotation\",\"id\":\"p11276\",\"attributes\":{\"syncable\":false,\"level\":\"overlay\",\"visible\":false,\"left_units\":\"canvas\",\"right_units\":\"canvas\",\"bottom_units\":\"canvas\",\"top_units\":\"canvas\",\"line_color\":\"black\",\"line_alpha\":1.0,\"line_width\":2,\"line_dash\":[4,4],\"fill_color\":\"lightgrey\",\"fill_alpha\":0.5}}}},{\"type\":\"object\",\"name\":\"SaveTool\",\"id\":\"p11277\"},{\"type\":\"object\",\"name\":\"ResetTool\",\"id\":\"p11278\"},{\"type\":\"object\",\"name\":\"HelpTool\",\"id\":\"p11279\"}]}},\"left\":[{\"type\":\"object\",\"name\":\"LinearAxis\",\"id\":\"p11266\",\"attributes\":{\"ticker\":{\"type\":\"object\",\"name\":\"BasicTicker\",\"id\":\"p11268\",\"attributes\":{\"mantissas\":[1,2,5]}},\"formatter\":{\"type\":\"object\",\"name\":\"BasicTickFormatter\",\"id\":\"p11269\"},\"major_label_policy\":{\"type\":\"object\",\"name\":\"AllLabels\",\"id\":\"p11267\"}}}],\"below\":[{\"type\":\"object\",\"name\":\"LinearAxis\",\"id\":\"p11259\",\"attributes\":{\"ticker\":{\"type\":\"object\",\"name\":\"BasicTicker\",\"id\":\"p11261\",\"attributes\":{\"mantissas\":[1,2,5]}},\"formatter\":{\"type\":\"object\",\"name\":\"BasicTickFormatter\",\"id\":\"p11262\"},\"major_label_policy\":{\"type\":\"object\",\"name\":\"AllLabels\",\"id\":\"p11260\"}}}],\"center\":[{\"type\":\"object\",\"name\":\"Grid\",\"id\":\"p11265\",\"attributes\":{\"axis\":{\"id\":\"p11259\"}}},{\"type\":\"object\",\"name\":\"Grid\",\"id\":\"p11272\",\"attributes\":{\"dimension\":1,\"axis\":{\"id\":\"p11266\"}}}]}}]}};\n  const render_items = [{\"docid\":\"0e487ad3-a9e2-491a-a010-c2ece50f370f\",\"roots\":{\"p11241\":\"8af5cb22-c408-40a4-909d-3f0efa2ca9f9\"},\"root_ids\":[\"p11241\"]}];\n  root.Bokeh.embed.embed_items_notebook(docs_json, render_items);\n  }\n  if (root.Bokeh !== undefined) {\n    embed_document(root);\n  } else {\n    let attempts = 0;\n    const timer = setInterval(function(root) {\n      if (root.Bokeh !== undefined) {\n        clearInterval(timer);\n        embed_document(root);\n      } else {\n        attempts++;\n        if (attempts > 100) {\n          clearInterval(timer);\n          console.log(\"Bokeh: ERROR: Unable to run BokehJS code because BokehJS library is missing\");\n        }\n      }\n    }, 10, root)\n  }\n})(window);",
      "application/vnd.bokehjs_exec.v0+json": ""
     },
     "metadata": {
      "application/vnd.bokehjs_exec.v0+json": {
       "id": "p11241"
      }
     },
     "output_type": "display_data"
    }
   ],
   "source": [
    "p=figure(title=\"First Two Principal Components\",x_range=(-3,3),y_range=(-3,3))\n",
    "p.scatter(x=PCA[:,0],y=PCA[:,1])\n",
    "show(p)"
   ]
  },
  {
   "cell_type": "code",
   "execution_count": 74,
   "metadata": {},
   "outputs": [
    {
     "data": {
      "text/html": [
       "\n",
       "  <div id=\"0f3ac747-8558-4b88-b0bf-123a6686d8d4\" data-root-id=\"p22262\" style=\"display: contents;\"></div>\n"
      ]
     },
     "metadata": {},
     "output_type": "display_data"
    },
    {
     "data": {
      "application/javascript": "(function(root) {\n  function embed_document(root) {\n  const docs_json = {\"25035598-fe33-4976-86f3-1de3a7ff9b8d\":{\"version\":\"3.0.2\",\"title\":\"Bokeh Application\",\"defs\":[],\"roots\":[{\"type\":\"object\",\"name\":\"Figure\",\"id\":\"p22262\",\"attributes\":{\"x_range\":{\"type\":\"object\",\"name\":\"Range1d\",\"id\":\"p22272\",\"attributes\":{\"start\":-3,\"end\":3}},\"y_range\":{\"type\":\"object\",\"name\":\"Range1d\",\"id\":\"p22274\",\"attributes\":{\"start\":-3,\"end\":3}},\"x_scale\":{\"type\":\"object\",\"name\":\"LinearScale\",\"id\":\"p22276\"},\"y_scale\":{\"type\":\"object\",\"name\":\"LinearScale\",\"id\":\"p22278\"},\"title\":{\"type\":\"object\",\"name\":\"Title\",\"id\":\"p22265\",\"attributes\":{\"text\":\"First Two Principal Components with Loadings from first 8 features\"}},\"renderers\":[{\"type\":\"object\",\"name\":\"GlyphRenderer\",\"id\":\"p22315\",\"attributes\":{\"data_source\":{\"type\":\"object\",\"name\":\"ColumnDataSource\",\"id\":\"p22309\",\"attributes\":{\"selected\":{\"type\":\"object\",\"name\":\"Selection\",\"id\":\"p22310\",\"attributes\":{\"indices\":[],\"line_indices\":[]}},\"selection_policy\":{\"type\":\"object\",\"name\":\"UnionRenderers\",\"id\":\"p22311\"},\"data\":{\"type\":\"map\",\"entries\":[[\"x\",{\"type\":\"ndarray\",\"array\":{\"type\":\"bytes\",\"data\":\"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\"},\"shape\":[200],\"dtype\":\"float64\",\"order\":\"little\"}],[\"y\",{\"type\":\"ndarray\",\"array\":{\"type\":\"bytes\",\"data\":\"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\"},\"shape\":[200],\"dtype\":\"float64\",\"order\":\"little\"}]]}}},\"view\":{\"type\":\"object\",\"name\":\"CDSView\",\"id\":\"p22316\",\"attributes\":{\"filter\":{\"type\":\"object\",\"name\":\"AllIndices\",\"id\":\"p22317\"}}},\"glyph\":{\"type\":\"object\",\"name\":\"Scatter\",\"id\":\"p22312\",\"attributes\":{\"x\":{\"type\":\"field\",\"field\":\"x\"},\"y\":{\"type\":\"field\",\"field\":\"y\"},\"line_color\":{\"type\":\"value\",\"value\":\"#1f77b4\"},\"fill_color\":{\"type\":\"value\",\"value\":\"#1f77b4\"}}},\"nonselection_glyph\":{\"type\":\"object\",\"name\":\"Scatter\",\"id\":\"p22313\",\"attributes\":{\"x\":{\"type\":\"field\",\"field\":\"x\"},\"y\":{\"type\":\"field\",\"field\":\"y\"},\"line_color\":{\"type\":\"value\",\"value\":\"#1f77b4\"},\"line_alpha\":{\"type\":\"value\",\"value\":0.1},\"fill_color\":{\"type\":\"value\",\"value\":\"#1f77b4\"},\"fill_alpha\":{\"type\":\"value\",\"value\":0.1},\"hatch_alpha\":{\"type\":\"value\",\"value\":0.1}}},\"muted_glyph\":{\"type\":\"object\",\"name\":\"Scatter\",\"id\":\"p22314\",\"attributes\":{\"x\":{\"type\":\"field\",\"field\":\"x\"},\"y\":{\"type\":\"field\",\"field\":\"y\"},\"line_color\":{\"type\":\"value\",\"value\":\"#1f77b4\"},\"line_alpha\":{\"type\":\"value\",\"value\":0.2},\"fill_color\":{\"type\":\"value\",\"value\":\"#1f77b4\"},\"fill_alpha\":{\"type\":\"value\",\"value\":0.2},\"hatch_alpha\":{\"type\":\"value\",\"value\":0.2}}}}},{\"type\":\"object\",\"name\":\"GlyphRenderer\",\"id\":\"p22324\",\"attributes\":{\"data_source\":{\"type\":\"object\",\"name\":\"ColumnDataSource\",\"id\":\"p22318\",\"attributes\":{\"selected\":{\"type\":\"object\",\"name\":\"Selection\",\"id\":\"p22319\",\"attributes\":{\"indices\":[],\"line_indices\":[]}},\"selection_policy\":{\"type\":\"object\",\"name\":\"UnionRenderers\",\"id\":\"p22320\"},\"data\":{\"type\":\"map\",\"entries\":[[\"x\",{\"type\":\"ndarray\",\"array\":{\"type\":\"bytes\",\"data\":\"AAAAAAAAAABVVVVVVVXVP1VVVVVVVeU/AAAAAAAA8D9VVVVVVVX1P6qqqqqqqvo/AAAAAAAAAECqqqqqqqoCQFVVVVVVVQVAAAAAAAAACEA=\"},\"shape\":[10],\"dtype\":\"float64\",\"order\":\"little\"}],[\"y\",{\"type\":\"ndarray\",\"array\":{\"type\":\"bytes\",\"data\":\"AAAAAAAAAIDIQaeqtZ3Lv8hBp6q1ndu/V3H9P0i25L/IQaeqtZ3rvx2JqIqRQvG/V3H9P0i29L+PWVL1/in4v8hBp6q1nfu/ASr8X2wR/78=\"},\"shape\":[10],\"dtype\":\"float64\",\"order\":\"little\"}]]}}},\"view\":{\"type\":\"object\",\"name\":\"CDSView\",\"id\":\"p22325\",\"attributes\":{\"filter\":{\"type\":\"object\",\"name\":\"AllIndices\",\"id\":\"p22326\"}}},\"glyph\":{\"type\":\"object\",\"name\":\"Line\",\"id\":\"p22321\",\"attributes\":{\"x\":{\"type\":\"field\",\"field\":\"x\"},\"y\":{\"type\":\"field\",\"field\":\"y\"},\"line_color\":\"#1f77b4\",\"line_width\":3}},\"nonselection_glyph\":{\"type\":\"object\",\"name\":\"Line\",\"id\":\"p22322\",\"attributes\":{\"x\":{\"type\":\"field\",\"field\":\"x\"},\"y\":{\"type\":\"field\",\"field\":\"y\"},\"line_color\":\"#1f77b4\",\"line_alpha\":0.1,\"line_width\":3}},\"muted_glyph\":{\"type\":\"object\",\"name\":\"Line\",\"id\":\"p22323\",\"attributes\":{\"x\":{\"type\":\"field\",\"field\":\"x\"},\"y\":{\"type\":\"field\",\"field\":\"y\"},\"line_color\":\"#1f77b4\",\"line_alpha\":0.2,\"line_width\":3}}}},{\"type\":\"object\",\"name\":\"GlyphRenderer\",\"id\":\"p22353\",\"attributes\":{\"data_source\":{\"type\":\"object\",\"name\":\"ColumnDataSource\",\"id\":\"p22347\",\"attributes\":{\"selected\":{\"type\":\"object\",\"name\":\"Selection\",\"id\":\"p22348\",\"attributes\":{\"indices\":[],\"line_indices\":[]}},\"selection_policy\":{\"type\":\"object\",\"name\":\"UnionRenderers\",\"id\":\"p22349\"},\"data\":{\"type\":\"map\",\"entries\":[[\"x\",{\"type\":\"ndarray\",\"array\":{\"type\":\"bytes\",\"data\":\"AAAAAAAAAABVVVVVVVXVP1VVVVVVVeU/AAAAAAAA8D9VVVVVVVX1P6qqqqqqqvo/AAAAAAAAAECqqqqqqqoCQFVVVVVVVQVAAAAAAAAACEA=\"},\"shape\":[10],\"dtype\":\"float64\",\"order\":\"little\"}],[\"y\",{\"type\":\"ndarray\",\"array\":{\"type\":\"bytes\",\"data\":\"AAAAAAAAAACuEqdsMo3hP64Sp2wyjfE/Bpz6ostT+j+uEqdsMo0BQFrX0Ad/8AVABpz6ostTCkCwYCQ+GLcOQK4Sp2wyjRFABfU7uti+E0A=\"},\"shape\":[10],\"dtype\":\"float64\",\"order\":\"little\"}]]}}},\"view\":{\"type\":\"object\",\"name\":\"CDSView\",\"id\":\"p22354\",\"attributes\":{\"filter\":{\"type\":\"object\",\"name\":\"AllIndices\",\"id\":\"p22355\"}}},\"glyph\":{\"type\":\"object\",\"name\":\"Line\",\"id\":\"p22350\",\"attributes\":{\"x\":{\"type\":\"field\",\"field\":\"x\"},\"y\":{\"type\":\"field\",\"field\":\"y\"},\"line_color\":\"#ff7f0e\",\"line_width\":3}},\"nonselection_glyph\":{\"type\":\"object\",\"name\":\"Line\",\"id\":\"p22351\",\"attributes\":{\"x\":{\"type\":\"field\",\"field\":\"x\"},\"y\":{\"type\":\"field\",\"field\":\"y\"},\"line_color\":\"#ff7f0e\",\"line_alpha\":0.1,\"line_width\":3}},\"muted_glyph\":{\"type\":\"object\",\"name\":\"Line\",\"id\":\"p22352\",\"attributes\":{\"x\":{\"type\":\"field\",\"field\":\"x\"},\"y\":{\"type\":\"field\",\"field\":\"y\"},\"line_color\":\"#ff7f0e\",\"line_alpha\":0.2,\"line_width\":3}}}},{\"type\":\"object\",\"name\":\"GlyphRenderer\",\"id\":\"p22386\",\"attributes\":{\"data_source\":{\"type\":\"object\",\"name\":\"ColumnDataSource\",\"id\":\"p22380\",\"attributes\":{\"selected\":{\"type\":\"object\",\"name\":\"Selection\",\"id\":\"p22381\",\"attributes\":{\"indices\":[],\"line_indices\":[]}},\"selection_policy\":{\"type\":\"object\",\"name\":\"UnionRenderers\",\"id\":\"p22382\"},\"data\":{\"type\":\"map\",\"entries\":[[\"x\",{\"type\":\"ndarray\",\"array\":{\"type\":\"bytes\",\"data\":\"AAAAAAAAAABVVVVVVVXVP1VVVVVVVeU/AAAAAAAA8D9VVVVVVVX1P6qqqqqqqvo/AAAAAAAAAECqqqqqqqoCQFVVVVVVVQVAAAAAAAAACEA=\"},\"shape\":[10],\"dtype\":\"float64\",\"order\":\"little\"}],[\"y\",{\"type\":\"ndarray\",\"array\":{\"type\":\"bytes\",\"data\":\"AAAAAAAAAACmMfrjGzoOQKYx+uMbOh5APaX76pSrJkCmMfrjGzouQAhffG5R5DJAPaX76pSrNkBx63pn2HI6QKYx+uMbOj5A7bs8sK8AQUA=\"},\"shape\":[10],\"dtype\":\"float64\",\"order\":\"little\"}]]}}},\"view\":{\"type\":\"object\",\"name\":\"CDSView\",\"id\":\"p22387\",\"attributes\":{\"filter\":{\"type\":\"object\",\"name\":\"AllIndices\",\"id\":\"p22388\"}}},\"glyph\":{\"type\":\"object\",\"name\":\"Line\",\"id\":\"p22383\",\"attributes\":{\"x\":{\"type\":\"field\",\"field\":\"x\"},\"y\":{\"type\":\"field\",\"field\":\"y\"},\"line_color\":\"#2ca02c\",\"line_width\":3}},\"nonselection_glyph\":{\"type\":\"object\",\"name\":\"Line\",\"id\":\"p22384\",\"attributes\":{\"x\":{\"type\":\"field\",\"field\":\"x\"},\"y\":{\"type\":\"field\",\"field\":\"y\"},\"line_color\":\"#2ca02c\",\"line_alpha\":0.1,\"line_width\":3}},\"muted_glyph\":{\"type\":\"object\",\"name\":\"Line\",\"id\":\"p22385\",\"attributes\":{\"x\":{\"type\":\"field\",\"field\":\"x\"},\"y\":{\"type\":\"field\",\"field\":\"y\"},\"line_color\":\"#2ca02c\",\"line_alpha\":0.2,\"line_width\":3}}}},{\"type\":\"object\",\"name\":\"GlyphRenderer\",\"id\":\"p22424\",\"attributes\":{\"data_source\":{\"type\":\"object\",\"name\":\"ColumnDataSource\",\"id\":\"p22418\",\"attributes\":{\"selected\":{\"type\":\"object\",\"name\":\"Selection\",\"id\":\"p22419\",\"attributes\":{\"indices\":[],\"line_indices\":[]}},\"selection_policy\":{\"type\":\"object\",\"name\":\"UnionRenderers\",\"id\":\"p22420\"},\"data\":{\"type\":\"map\",\"entries\":[[\"x\",{\"type\":\"ndarray\",\"array\":{\"type\":\"bytes\",\"data\":\"AAAAAAAAAABVVVVVVVXVP1VVVVVVVeU/AAAAAAAA8D9VVVVVVVX1P6qqqqqqqvo/AAAAAAAAAECqqqqqqqoCQFVVVVVVVQVAAAAAAAAACEA=\"},\"shape\":[10],\"dtype\":\"float64\",\"order\":\"little\"}],[\"y\",{\"type\":\"ndarray\",\"array\":{\"type\":\"bytes\",\"data\":\"AAAAAAAAAIBooWn0VCHEv2ihafRUIdS/HHKebv8x3r9ooWn0VCHkv8IJhDGqKem/HHKebv8x7r87bdxVKp3xv2ihafRUIfS/ldX2kn+l9r8=\"},\"shape\":[10],\"dtype\":\"float64\",\"order\":\"little\"}]]}}},\"view\":{\"type\":\"object\",\"name\":\"CDSView\",\"id\":\"p22425\",\"attributes\":{\"filter\":{\"type\":\"object\",\"name\":\"AllIndices\",\"id\":\"p22426\"}}},\"glyph\":{\"type\":\"object\",\"name\":\"Line\",\"id\":\"p22421\",\"attributes\":{\"x\":{\"type\":\"field\",\"field\":\"x\"},\"y\":{\"type\":\"field\",\"field\":\"y\"},\"line_color\":\"#d62728\",\"line_width\":3}},\"nonselection_glyph\":{\"type\":\"object\",\"name\":\"Line\",\"id\":\"p22422\",\"attributes\":{\"x\":{\"type\":\"field\",\"field\":\"x\"},\"y\":{\"type\":\"field\",\"field\":\"y\"},\"line_color\":\"#d62728\",\"line_alpha\":0.1,\"line_width\":3}},\"muted_glyph\":{\"type\":\"object\",\"name\":\"Line\",\"id\":\"p22423\",\"attributes\":{\"x\":{\"type\":\"field\",\"field\":\"x\"},\"y\":{\"type\":\"field\",\"field\":\"y\"},\"line_color\":\"#d62728\",\"line_alpha\":0.2,\"line_width\":3}}}},{\"type\":\"object\",\"name\":\"GlyphRenderer\",\"id\":\"p22467\",\"attributes\":{\"data_source\":{\"type\":\"object\",\"name\":\"ColumnDataSource\",\"id\":\"p22461\",\"attributes\":{\"selected\":{\"type\":\"object\",\"name\":\"Selection\",\"id\":\"p22462\",\"attributes\":{\"indices\":[],\"line_indices\":[]}},\"selection_policy\":{\"type\":\"object\",\"name\":\"UnionRenderers\",\"id\":\"p22463\"},\"data\":{\"type\":\"map\",\"entries\":[[\"x\",{\"type\":\"ndarray\",\"array\":{\"type\":\"bytes\",\"data\":\"AAAAAAAAAABVVVVVVVXVP1VVVVVVVeU/AAAAAAAA8D9VVVVVVVX1P6qqqqqqqvo/AAAAAAAAAECqqqqqqqoCQFVVVVVVVQVAAAAAAAAACEA=\"},\"shape\":[10],\"dtype\":\"float64\",\"order\":\"little\"}],[\"y\",{\"type\":\"ndarray\",\"array\":{\"type\":\"bytes\",\"data\":\"AAAAAAAAAACXnqY3eyfOP5eepjd7J94/8fa8aZyd5j+XnqY3eyfuPx4jyAKt2PI/8fa8aZyd9j/DyrHQi2L6P5eepjd7J/4/NblNTzX2AEA=\"},\"shape\":[10],\"dtype\":\"float64\",\"order\":\"little\"}]]}}},\"view\":{\"type\":\"object\",\"name\":\"CDSView\",\"id\":\"p22468\",\"attributes\":{\"filter\":{\"type\":\"object\",\"name\":\"AllIndices\",\"id\":\"p22469\"}}},\"glyph\":{\"type\":\"object\",\"name\":\"Line\",\"id\":\"p22464\",\"attributes\":{\"x\":{\"type\":\"field\",\"field\":\"x\"},\"y\":{\"type\":\"field\",\"field\":\"y\"},\"line_color\":\"#9467bd\",\"line_width\":3}},\"nonselection_glyph\":{\"type\":\"object\",\"name\":\"Line\",\"id\":\"p22465\",\"attributes\":{\"x\":{\"type\":\"field\",\"field\":\"x\"},\"y\":{\"type\":\"field\",\"field\":\"y\"},\"line_color\":\"#9467bd\",\"line_alpha\":0.1,\"line_width\":3}},\"muted_glyph\":{\"type\":\"object\",\"name\":\"Line\",\"id\":\"p22466\",\"attributes\":{\"x\":{\"type\":\"field\",\"field\":\"x\"},\"y\":{\"type\":\"field\",\"field\":\"y\"},\"line_color\":\"#9467bd\",\"line_alpha\":0.2,\"line_width\":3}}}},{\"type\":\"object\",\"name\":\"GlyphRenderer\",\"id\":\"p22515\",\"attributes\":{\"data_source\":{\"type\":\"object\",\"name\":\"ColumnDataSource\",\"id\":\"p22509\",\"attributes\":{\"selected\":{\"type\":\"object\",\"name\":\"Selection\",\"id\":\"p22510\",\"attributes\":{\"indices\":[],\"line_indices\":[]}},\"selection_policy\":{\"type\":\"object\",\"name\":\"UnionRenderers\",\"id\":\"p22511\"},\"data\":{\"type\":\"map\",\"entries\":[[\"x\",{\"type\":\"ndarray\",\"array\":{\"type\":\"bytes\",\"data\":\"AAAAAAAAAABVVVVVVVXVP1VVVVVVVeU/AAAAAAAA8D9VVVVVVVX1P6qqqqqqqvo/AAAAAAAAAECqqqqqqqoCQFVVVVVVVQVAAAAAAAAACEA=\"},\"shape\":[10],\"dtype\":\"float64\",\"order\":\"little\"}],[\"y\",{\"type\":\"ndarray\",\"array\":{\"type\":\"bytes\",\"data\":\"AAAAAAAAAIAi0HOw5G/zvyLQc7DkbwPANLitCNcnDcAi0HOw5G8TwCrEkNzdSxjANLitCNcnHcAeVmUa6AEhwCLQc7DkbyPAJkqCRuHdJcA=\"},\"shape\":[10],\"dtype\":\"float64\",\"order\":\"little\"}]]}}},\"view\":{\"type\":\"object\",\"name\":\"CDSView\",\"id\":\"p22516\",\"attributes\":{\"filter\":{\"type\":\"object\",\"name\":\"AllIndices\",\"id\":\"p22517\"}}},\"glyph\":{\"type\":\"object\",\"name\":\"Line\",\"id\":\"p22512\",\"attributes\":{\"x\":{\"type\":\"field\",\"field\":\"x\"},\"y\":{\"type\":\"field\",\"field\":\"y\"},\"line_color\":\"#8c564b\",\"line_width\":3}},\"nonselection_glyph\":{\"type\":\"object\",\"name\":\"Line\",\"id\":\"p22513\",\"attributes\":{\"x\":{\"type\":\"field\",\"field\":\"x\"},\"y\":{\"type\":\"field\",\"field\":\"y\"},\"line_color\":\"#8c564b\",\"line_alpha\":0.1,\"line_width\":3}},\"muted_glyph\":{\"type\":\"object\",\"name\":\"Line\",\"id\":\"p22514\",\"attributes\":{\"x\":{\"type\":\"field\",\"field\":\"x\"},\"y\":{\"type\":\"field\",\"field\":\"y\"},\"line_color\":\"#8c564b\",\"line_alpha\":0.2,\"line_width\":3}}}},{\"type\":\"object\",\"name\":\"GlyphRenderer\",\"id\":\"p22568\",\"attributes\":{\"data_source\":{\"type\":\"object\",\"name\":\"ColumnDataSource\",\"id\":\"p22562\",\"attributes\":{\"selected\":{\"type\":\"object\",\"name\":\"Selection\",\"id\":\"p22563\",\"attributes\":{\"indices\":[],\"line_indices\":[]}},\"selection_policy\":{\"type\":\"object\",\"name\":\"UnionRenderers\",\"id\":\"p22564\"},\"data\":{\"type\":\"map\",\"entries\":[[\"x\",{\"type\":\"ndarray\",\"array\":{\"type\":\"bytes\",\"data\":\"AAAAAAAAAABVVVVVVVXVP1VVVVVVVeU/AAAAAAAA8D9VVVVVVVX1P6qqqqqqqvo/AAAAAAAAAECqqqqqqqoCQFVVVVVVVQVAAAAAAAAACEA=\"},\"shape\":[10],\"dtype\":\"float64\",\"order\":\"little\"}],[\"y\",{\"type\":\"ndarray\",\"array\":{\"type\":\"bytes\",\"data\":\"AAAAAAAAAIBBbSs9BuQCwEFtKz0G5BLA4SPBWwlWHMBBbSs9BuQiwJFIdswHnSfA4SPBWwlWLMCY/4V1hYcwwEFtKz0G5DLA6drQBIdANcA=\"},\"shape\":[10],\"dtype\":\"float64\",\"order\":\"little\"}]]}}},\"view\":{\"type\":\"object\",\"name\":\"CDSView\",\"id\":\"p22569\",\"attributes\":{\"filter\":{\"type\":\"object\",\"name\":\"AllIndices\",\"id\":\"p22570\"}}},\"glyph\":{\"type\":\"object\",\"name\":\"Line\",\"id\":\"p22565\",\"attributes\":{\"x\":{\"type\":\"field\",\"field\":\"x\"},\"y\":{\"type\":\"field\",\"field\":\"y\"},\"line_color\":\"#e377c2\",\"line_width\":3}},\"nonselection_glyph\":{\"type\":\"object\",\"name\":\"Line\",\"id\":\"p22566\",\"attributes\":{\"x\":{\"type\":\"field\",\"field\":\"x\"},\"y\":{\"type\":\"field\",\"field\":\"y\"},\"line_color\":\"#e377c2\",\"line_alpha\":0.1,\"line_width\":3}},\"muted_glyph\":{\"type\":\"object\",\"name\":\"Line\",\"id\":\"p22567\",\"attributes\":{\"x\":{\"type\":\"field\",\"field\":\"x\"},\"y\":{\"type\":\"field\",\"field\":\"y\"},\"line_color\":\"#e377c2\",\"line_alpha\":0.2,\"line_width\":3}}}},{\"type\":\"object\",\"name\":\"GlyphRenderer\",\"id\":\"p22626\",\"attributes\":{\"data_source\":{\"type\":\"object\",\"name\":\"ColumnDataSource\",\"id\":\"p22620\",\"attributes\":{\"selected\":{\"type\":\"object\",\"name\":\"Selection\",\"id\":\"p22621\",\"attributes\":{\"indices\":[],\"line_indices\":[]}},\"selection_policy\":{\"type\":\"object\",\"name\":\"UnionRenderers\",\"id\":\"p22622\"},\"data\":{\"type\":\"map\",\"entries\":[[\"x\",{\"type\":\"ndarray\",\"array\":{\"type\":\"bytes\",\"data\":\"AAAAAAAAAABVVVVVVVXVP1VVVVVVVeU/AAAAAAAA8D9VVVVVVVX1P6qqqqqqqvo/AAAAAAAAAECqqqqqqqoCQFVVVVVVVQVAAAAAAAAACEA=\"},\"shape\":[10],\"dtype\":\"float64\",\"order\":\"little\"}],[\"y\",{\"type\":\"ndarray\",\"array\":{\"type\":\"bytes\",\"data\":\"AAAAAAAAAIAWgBzAi/3PvxaAHMCL/d+/EWAV0Cj+578WgBzAi/3vvw7QEVh3/vO/EWAV0Cj+978S8BhI2v37vxaAHMCL/f+/DAgQnJ7+AcA=\"},\"shape\":[10],\"dtype\":\"float64\",\"order\":\"little\"}]]}}},\"view\":{\"type\":\"object\",\"name\":\"CDSView\",\"id\":\"p22627\",\"attributes\":{\"filter\":{\"type\":\"object\",\"name\":\"AllIndices\",\"id\":\"p22628\"}}},\"glyph\":{\"type\":\"object\",\"name\":\"Line\",\"id\":\"p22623\",\"attributes\":{\"x\":{\"type\":\"field\",\"field\":\"x\"},\"y\":{\"type\":\"field\",\"field\":\"y\"},\"line_color\":\"#7f7f7f\",\"line_width\":3}},\"nonselection_glyph\":{\"type\":\"object\",\"name\":\"Line\",\"id\":\"p22624\",\"attributes\":{\"x\":{\"type\":\"field\",\"field\":\"x\"},\"y\":{\"type\":\"field\",\"field\":\"y\"},\"line_color\":\"#7f7f7f\",\"line_alpha\":0.1,\"line_width\":3}},\"muted_glyph\":{\"type\":\"object\",\"name\":\"Line\",\"id\":\"p22625\",\"attributes\":{\"x\":{\"type\":\"field\",\"field\":\"x\"},\"y\":{\"type\":\"field\",\"field\":\"y\"},\"line_color\":\"#7f7f7f\",\"line_alpha\":0.2,\"line_width\":3}}}}],\"toolbar\":{\"type\":\"object\",\"name\":\"Toolbar\",\"id\":\"p22271\",\"attributes\":{\"tools\":[{\"type\":\"object\",\"name\":\"PanTool\",\"id\":\"p22294\"},{\"type\":\"object\",\"name\":\"WheelZoomTool\",\"id\":\"p22295\"},{\"type\":\"object\",\"name\":\"BoxZoomTool\",\"id\":\"p22296\",\"attributes\":{\"overlay\":{\"type\":\"object\",\"name\":\"BoxAnnotation\",\"id\":\"p22297\",\"attributes\":{\"syncable\":false,\"level\":\"overlay\",\"visible\":false,\"left_units\":\"canvas\",\"right_units\":\"canvas\",\"bottom_units\":\"canvas\",\"top_units\":\"canvas\",\"line_color\":\"black\",\"line_alpha\":1.0,\"line_width\":2,\"line_dash\":[4,4],\"fill_color\":\"lightgrey\",\"fill_alpha\":0.5}}}},{\"type\":\"object\",\"name\":\"SaveTool\",\"id\":\"p22298\"},{\"type\":\"object\",\"name\":\"ResetTool\",\"id\":\"p22299\"},{\"type\":\"object\",\"name\":\"HelpTool\",\"id\":\"p22300\"}]}},\"left\":[{\"type\":\"object\",\"name\":\"LinearAxis\",\"id\":\"p22287\",\"attributes\":{\"ticker\":{\"type\":\"object\",\"name\":\"BasicTicker\",\"id\":\"p22289\",\"attributes\":{\"mantissas\":[1,2,5]}},\"formatter\":{\"type\":\"object\",\"name\":\"BasicTickFormatter\",\"id\":\"p22290\"},\"major_label_policy\":{\"type\":\"object\",\"name\":\"AllLabels\",\"id\":\"p22288\"}}}],\"below\":[{\"type\":\"object\",\"name\":\"LinearAxis\",\"id\":\"p22280\",\"attributes\":{\"ticker\":{\"type\":\"object\",\"name\":\"BasicTicker\",\"id\":\"p22282\",\"attributes\":{\"mantissas\":[1,2,5]}},\"formatter\":{\"type\":\"object\",\"name\":\"BasicTickFormatter\",\"id\":\"p22283\"},\"major_label_policy\":{\"type\":\"object\",\"name\":\"AllLabels\",\"id\":\"p22281\"}}}],\"center\":[{\"type\":\"object\",\"name\":\"Grid\",\"id\":\"p22286\",\"attributes\":{\"axis\":{\"id\":\"p22280\"}}},{\"type\":\"object\",\"name\":\"Grid\",\"id\":\"p22293\",\"attributes\":{\"dimension\":1,\"axis\":{\"id\":\"p22287\"}}},{\"type\":\"object\",\"name\":\"Legend\",\"id\":\"p22345\",\"attributes\":{\"items\":[{\"type\":\"object\",\"name\":\"LegendItem\",\"id\":\"p22346\",\"attributes\":{\"label\":{\"type\":\"value\",\"value\":\"feature 0\"},\"renderers\":[{\"id\":\"p22324\"}]}},{\"type\":\"object\",\"name\":\"LegendItem\",\"id\":\"p22379\",\"attributes\":{\"label\":{\"type\":\"value\",\"value\":\"feature 1\"},\"renderers\":[{\"id\":\"p22353\"}]}},{\"type\":\"object\",\"name\":\"LegendItem\",\"id\":\"p22417\",\"attributes\":{\"label\":{\"type\":\"value\",\"value\":\"feature 2\"},\"renderers\":[{\"id\":\"p22386\"}]}},{\"type\":\"object\",\"name\":\"LegendItem\",\"id\":\"p22460\",\"attributes\":{\"label\":{\"type\":\"value\",\"value\":\"feature 3\"},\"renderers\":[{\"id\":\"p22424\"}]}},{\"type\":\"object\",\"name\":\"LegendItem\",\"id\":\"p22508\",\"attributes\":{\"label\":{\"type\":\"value\",\"value\":\"feature 4\"},\"renderers\":[{\"id\":\"p22467\"}]}},{\"type\":\"object\",\"name\":\"LegendItem\",\"id\":\"p22561\",\"attributes\":{\"label\":{\"type\":\"value\",\"value\":\"feature 5\"},\"renderers\":[{\"id\":\"p22515\"}]}},{\"type\":\"object\",\"name\":\"LegendItem\",\"id\":\"p22619\",\"attributes\":{\"label\":{\"type\":\"value\",\"value\":\"feature 6\"},\"renderers\":[{\"id\":\"p22568\"}]}},{\"type\":\"object\",\"name\":\"LegendItem\",\"id\":\"p22682\",\"attributes\":{\"label\":{\"type\":\"value\",\"value\":\"feature 7\"},\"renderers\":[{\"id\":\"p22626\"}]}}]}}]}}]}};\n  const render_items = [{\"docid\":\"25035598-fe33-4976-86f3-1de3a7ff9b8d\",\"roots\":{\"p22262\":\"0f3ac747-8558-4b88-b0bf-123a6686d8d4\"},\"root_ids\":[\"p22262\"]}];\n  root.Bokeh.embed.embed_items_notebook(docs_json, render_items);\n  }\n  if (root.Bokeh !== undefined) {\n    embed_document(root);\n  } else {\n    let attempts = 0;\n    const timer = setInterval(function(root) {\n      if (root.Bokeh !== undefined) {\n        clearInterval(timer);\n        embed_document(root);\n      } else {\n        attempts++;\n        if (attempts > 100) {\n          clearInterval(timer);\n          console.log(\"Bokeh: ERROR: Unable to run BokehJS code because BokehJS library is missing\");\n        }\n      }\n    }, 10, root)\n  }\n})(window);",
      "application/vnd.bokehjs_exec.v0+json": ""
     },
     "metadata": {
      "application/vnd.bokehjs_exec.v0+json": {
       "id": "p22262"
      }
     },
     "output_type": "display_data"
    }
   ],
   "source": [
    "\n",
    "p=figure(title=\"First Two Principal Components with Loadings from first 8 features\",x_range=(-3,3),y_range=(-3,3))\n",
    "p.scatter(x=PCA[:,0],y=PCA[:,1])\n",
    "for i in range(8):\n",
    "    lx,ly=np.linspace(0,3,10),np.linspace(0,3,10)*V[i,1]/V[i,0]\n",
    "    p.line(x=lx,y=ly,legend_label=\"feature {}\".format(i),color=Category10[8][i],line_width=3)\n",
    "show(p)"
   ]
  },
  {
   "cell_type": "code",
   "execution_count": 66,
   "metadata": {},
   "outputs": [
    {
     "data": {
      "text/plain": [
       "[3, 4, 5, 6, 7, 8, 9, 10]"
      ]
     },
     "execution_count": 66,
     "metadata": {},
     "output_type": "execute_result"
    }
   ],
   "source": [
    "colors"
   ]
  },
  {
   "cell_type": "code",
   "execution_count": 69,
   "metadata": {},
   "outputs": [
    {
     "data": {
      "text/plain": [
       "('#1f77b4',\n",
       " '#ff7f0e',\n",
       " '#2ca02c',\n",
       " '#d62728',\n",
       " '#9467bd',\n",
       " '#8c564b',\n",
       " '#e377c2',\n",
       " '#7f7f7f')"
      ]
     },
     "execution_count": 69,
     "metadata": {},
     "output_type": "execute_result"
    }
   ],
   "source": [
    "Category10[8]"
   ]
  },
  {
   "cell_type": "code",
   "execution_count": 75,
   "metadata": {},
   "outputs": [],
   "source": [
    "P, D, Q = np.linalg.svd(data)"
   ]
  },
  {
   "cell_type": "code",
   "execution_count": 76,
   "metadata": {},
   "outputs": [
    {
     "data": {
      "text/plain": [
       "(200, 200)"
      ]
     },
     "execution_count": 76,
     "metadata": {},
     "output_type": "execute_result"
    }
   ],
   "source": [
    "P.shape"
   ]
  },
  {
   "cell_type": "code",
   "execution_count": 77,
   "metadata": {},
   "outputs": [
    {
     "data": {
      "text/plain": [
       "(16, 16)"
      ]
     },
     "execution_count": 77,
     "metadata": {},
     "output_type": "execute_result"
    }
   ],
   "source": [
    "Q.shape"
   ]
  },
  {
   "cell_type": "code",
   "execution_count": 78,
   "metadata": {},
   "outputs": [
    {
     "data": {
      "text/plain": [
       "array([22.833, 19.594, 14.744, 11.131,  4.939,  4.622,  4.487,  4.457,\n",
       "        4.302,  4.163,  4.096,  3.919,  3.829,  3.624,  3.293,  2.965])"
      ]
     },
     "execution_count": 78,
     "metadata": {},
     "output_type": "execute_result"
    }
   ],
   "source": [
    "D\n"
   ]
  },
  {
   "cell_type": "code",
   "execution_count": null,
   "metadata": {},
   "outputs": [],
   "source": []
  }
 ],
 "metadata": {
  "kernelspec": {
   "display_name": "Python 3.10.8 ('python310')",
   "language": "python",
   "name": "python3"
  },
  "language_info": {
   "codemirror_mode": {
    "name": "ipython",
    "version": 3
   },
   "file_extension": ".py",
   "mimetype": "text/x-python",
   "name": "python",
   "nbconvert_exporter": "python",
   "pygments_lexer": "ipython3",
   "version": "3.10.6 | packaged by conda-forge | (main, Aug 22 2022, 20:36:39) [GCC 10.4.0]"
  },
  "orig_nbformat": 4,
  "vscode": {
   "interpreter": {
    "hash": "8d760aa701f9c3953c4158a2f5d628550462b9fbb129003fab9d076ff94005fb"
   }
  }
 },
 "nbformat": 4,
 "nbformat_minor": 2
}
