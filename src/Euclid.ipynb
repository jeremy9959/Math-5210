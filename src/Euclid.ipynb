{
 "cells": [
  {
   "cell_type": "code",
   "execution_count": 28,
   "metadata": {},
   "outputs": [],
   "source": [
    "def euclid(a,b):\n",
    "    x0,x1=1,0\n",
    "    y0,y1=0,1\n",
    "    r0,r1=a,b\n",
    "    q=\"\"\n",
    "    format_string=\"{:>14} {:>14} {:>14} {:>14}\"\n",
    "    print(format_string.format(\"\",a,x0,y0))\n",
    "    while r1>0:\n",
    "        print(format_string.format(q,r1,x1,y1))\n",
    "        q=r0//r1\n",
    "        r=r0-q*r1\n",
    "        x=x0-q*x1\n",
    "        y=y0-q*y1\n",
    "        x0,x1=x1,x\n",
    "        y0,y1=y1,y\n",
    "        r0,r1=r1,r\n",
    "\n",
    "  \n",
    "    "
   ]
  },
  {
   "cell_type": "code",
   "execution_count": 29,
   "metadata": {},
   "outputs": [
    {
     "name": "stdout",
     "output_type": "stream",
     "text": [
      "                           41              1              0\n",
      "                           18              0              1\n",
      "             2              5              1             -2\n",
      "             3              3             -3              7\n",
      "             1              2              4             -9\n",
      "             1              1             -7             16\n"
     ]
    }
   ],
   "source": [
    "euclid(41,18)"
   ]
  },
  {
   "cell_type": "code",
   "execution_count": 30,
   "metadata": {},
   "outputs": [
    {
     "data": {
      "text/plain": [
       "1"
      ]
     },
     "execution_count": 30,
     "metadata": {},
     "output_type": "execute_result"
    }
   ],
   "source": [
    "41*(-7)+18*16"
   ]
  },
  {
   "cell_type": "code",
   "execution_count": 27,
   "metadata": {},
   "outputs": [
    {
     "name": "stdout",
     "output_type": "stream",
     "text": [
      "                  1231209            1            0\n",
      "             113110132091            0            1\n",
      "           0      1231209            1            0\n",
      "       91869       192470       -91869            1\n",
      "           6        76389       551215           -6\n",
      "           2        39692     -1194299           13\n",
      "           1        36697      1745514          -19\n",
      "           1         2995     -2939813           32\n",
      "          12          757     37023270         -403\n",
      "           3          724   -114009623         1241\n",
      "           1           33    151032893        -1644\n",
      "          21           31  -3285700376        35765\n",
      "           1            2   3436733269       -37409\n",
      "          15            1 -54836699411       596900\n"
     ]
    }
   ],
   "source": [
    "euclid(1231209,113110132091)"
   ]
  },
  {
   "cell_type": "code",
   "execution_count": null,
   "metadata": {},
   "outputs": [],
   "source": []
  }
 ],
 "metadata": {
  "kernelspec": {
   "display_name": "Python 3.8.8 ('base')",
   "language": "python",
   "name": "python3"
  },
  "language_info": {
   "codemirror_mode": {
    "name": "ipython",
    "version": 3
   },
   "file_extension": ".py",
   "mimetype": "text/x-python",
   "name": "python",
   "nbconvert_exporter": "python",
   "pygments_lexer": "ipython3",
   "version": "3.8.8"
  },
  "orig_nbformat": 4,
  "vscode": {
   "interpreter": {
    "hash": "4de1eb631fc111013b2f441024ec0dcd7a567c3d6a338a26d91722f9a102f561"
   }
  }
 },
 "nbformat": 4,
 "nbformat_minor": 2
}
