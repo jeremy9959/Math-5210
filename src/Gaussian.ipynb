{
 "cells": [
  {
   "cell_type": "code",
   "execution_count": 57,
   "metadata": {},
   "outputs": [],
   "source": [
    "class Gaussian:\n",
    "    def __init__(self,a,b):\n",
    "        self._real=a\n",
    "        self._imag=b\n",
    "\n",
    "    def real(self):\n",
    "        return self._real\n",
    "\n",
    "    def imag(self):\n",
    "        return self._imag\n",
    "    \n",
    "    def norm(self):\n",
    "        return self._real**2+self._imag**2\n",
    "\n",
    "    def add(self,x):\n",
    "        realpart = self._real+x.real()\n",
    "        imagpart=self._imag+x.imag()\n",
    "        return Gaussian(realpart,imagpart)\n",
    "\n",
    "    def neg(self):\n",
    "        realpart=-self._real\n",
    "        imagpart=-self._imag\n",
    "        return Gaussian(realpart,imagpart)\n",
    "\n",
    "    def times(self,x):\n",
    "        realpart=(self._real)*(x.real())-(self._imag)*(x.imag())\n",
    "        imagpart=(self._real)*(x.imag())+(self._imag)*(x.real())\n",
    "        return Gaussian(realpart,imagpart)\n",
    "\n",
    "    def __repr__(self):\n",
    "        return repr([self._real,self._imag])\n",
    "\n",
    "    def bar(self):\n",
    "        return Gaussian(self._real,-self._imag)\n",
    "    \n",
    "    def is_zero(self):\n",
    "        if (self._real==0) and (self._imag==0):\n",
    "            return True\n",
    "        \n",
    "    \n",
    "\n"
   ]
  },
  {
   "cell_type": "code",
   "execution_count": 62,
   "metadata": {},
   "outputs": [],
   "source": [
    "def gauss_euclid(x,y):\n",
    "    a,b=x,y\n",
    "    while True:\n",
    "        num=a.times(b.bar())\n",
    "        denom=b.norm()\n",
    "        q=Gaussian(round(num.real()/denom),round(num.imag()/denom))\n",
    "        r=a.add((q.times(b)).neg())\n",
    "        if r.is_zero():\n",
    "            return b\n",
    "        else:\n",
    "            a,b=b,r"
   ]
  },
  {
   "cell_type": "code",
   "execution_count": 58,
   "metadata": {},
   "outputs": [],
   "source": [
    "\n",
    "\n",
    "    \n",
    "\n"
   ]
  },
  {
   "cell_type": "code",
   "execution_count": 63,
   "metadata": {},
   "outputs": [
    {
     "data": {
      "text/plain": [
       "[3, 2]"
      ]
     },
     "execution_count": 63,
     "metadata": {},
     "output_type": "execute_result"
    }
   ],
   "source": [
    "gauss_euclid(Gaussian(13,0),Gaussian(1,5))"
   ]
  },
  {
   "cell_type": "code",
   "execution_count": 56,
   "metadata": {},
   "outputs": [
    {
     "name": "stdout",
     "output_type": "stream",
     "text": [
      "-13 -13 13\n",
      "[1, -5]\n",
      "[-1, -1] [0, 0]\n"
     ]
    }
   ],
   "source": [
    "gauss_euclid(Gaussian(1,-5),Gaussian(2,3))"
   ]
  },
  {
   "cell_type": "code",
   "execution_count": 54,
   "metadata": {},
   "outputs": [
    {
     "name": "stdout",
     "output_type": "stream",
     "text": [
      "-2 1 1\n",
      "[-2, 1]\n",
      "[-2, 1] [0, 0]\n"
     ]
    }
   ],
   "source": [
    "gauss_euclid(Gaussian(-2,1),Gaussian(1,0))"
   ]
  },
  {
   "cell_type": "code",
   "execution_count": 48,
   "metadata": {},
   "outputs": [
    {
     "name": "stdout",
     "output_type": "stream",
     "text": [
      "-4 -2 5\n",
      "[-1, 0] [0, 1]\n"
     ]
    }
   ],
   "source": [
    "gauss_euclid(Gaussian(2,1),Gaussian(-2,0))"
   ]
  },
  {
   "cell_type": "code",
   "execution_count": null,
   "metadata": {},
   "outputs": [],
   "source": []
  }
 ],
 "metadata": {
  "kernelspec": {
   "display_name": "Python 3.8.8 ('base')",
   "language": "python",
   "name": "python3"
  },
  "language_info": {
   "codemirror_mode": {
    "name": "ipython",
    "version": 3
   },
   "file_extension": ".py",
   "mimetype": "text/x-python",
   "name": "python",
   "nbconvert_exporter": "python",
   "pygments_lexer": "ipython3",
   "version": "3.8.8"
  },
  "orig_nbformat": 4,
  "vscode": {
   "interpreter": {
    "hash": "4de1eb631fc111013b2f441024ec0dcd7a567c3d6a338a26d91722f9a102f561"
   }
  }
 },
 "nbformat": 4,
 "nbformat_minor": 2
}
