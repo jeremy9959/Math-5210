{
 "cells": [
  {
   "cell_type": "code",
   "execution_count": 39,
   "metadata": {},
   "outputs": [],
   "source": [
    "from sympy import isprime\n",
    "\n",
    "class Gaussian:\n",
    "    def __init__(self,a,b):\n",
    "        self._real=a\n",
    "        self._imag=b\n",
    "\n",
    "    def real(self):\n",
    "        return self._real\n",
    "\n",
    "    def imag(self):\n",
    "        return self._imag\n",
    "    \n",
    "    def norm(self):\n",
    "        return self._real**2+self._imag**2\n",
    "\n",
    "    def add(self,x):\n",
    "        realpart = self._real+x.real()\n",
    "        imagpart=self._imag+x.imag()\n",
    "        return Gaussian(realpart,imagpart)\n",
    "\n",
    "    def neg(self):\n",
    "        realpart=-self._real\n",
    "        imagpart=-self._imag\n",
    "        return Gaussian(realpart,imagpart)\n",
    "\n",
    "    def times(self,x):\n",
    "        realpart=(self._real)*(x.real())-(self._imag)*(x.imag())\n",
    "        imagpart=(self._real)*(x.imag())+(self._imag)*(x.real())\n",
    "        return Gaussian(realpart,imagpart)\n",
    "\n",
    "    def __repr__(self):\n",
    "        return repr([self._real,self._imag])\n",
    "\n",
    "    def bar(self):\n",
    "        return Gaussian(self._real,-self._imag)\n",
    "    \n",
    "    def is_zero(self):\n",
    "        if (self._real==0) and (self._imag==0):\n",
    "            return True\n",
    "        \n",
    "    \n",
    "def gauss_euclid(x,y):\n",
    "    a,b=x,y\n",
    "    while True:\n",
    "        num=a.times(b.bar())\n",
    "        denom=b.norm()\n",
    "        q=Gaussian(round(num.real()/denom),round(num.imag()/denom))\n",
    "        r=a.add((q.times(b)).neg())\n",
    "        if r.is_zero():\n",
    "            return b\n",
    "        else:\n",
    "            a,b=b,r\n",
    "\n",
    "def fermat(p):\n",
    "    if p<0:\n",
    "        p=-p\n",
    "    if p==2:\n",
    "        return([1,1])\n",
    "    if not isprime(p):\n",
    "        print(\"{} is not prime\".format(p))\n",
    "        return\n",
    "    if (p % 4) == 3:\n",
    "        print(\"{} is not congruent to one mod 4\".format(p))\n",
    "        return\n",
    "    for x in range(2,(p-2)):\n",
    "        u=1\n",
    "        for z in range((p-1)//4):\n",
    "            u=x*u % p\n",
    "        if u*u!=1:\n",
    "            return gauss_euclid(Gaussian(p,0),Gaussian(u,1))\n",
    "    "
   ]
  },
  {
   "cell_type": "code",
   "execution_count": 42,
   "metadata": {},
   "outputs": [
    {
     "data": {
      "text/plain": [
       "[8, 7]"
      ]
     },
     "execution_count": 42,
     "metadata": {},
     "output_type": "execute_result"
    }
   ],
   "source": [
    "fermat(113)"
   ]
  },
  {
   "cell_type": "code",
   "execution_count": null,
   "metadata": {},
   "outputs": [],
   "source": []
  }
 ],
 "metadata": {
  "kernelspec": {
   "display_name": "Python 3.8.8 ('base')",
   "language": "python",
   "name": "python3"
  },
  "language_info": {
   "codemirror_mode": {
    "name": "ipython",
    "version": 3
   },
   "file_extension": ".py",
   "mimetype": "text/x-python",
   "name": "python",
   "nbconvert_exporter": "python",
   "pygments_lexer": "ipython3",
   "version": "3.8.8"
  },
  "orig_nbformat": 4,
  "vscode": {
   "interpreter": {
    "hash": "4de1eb631fc111013b2f441024ec0dcd7a567c3d6a338a26d91722f9a102f561"
   }
  }
 },
 "nbformat": 4,
 "nbformat_minor": 2
}
